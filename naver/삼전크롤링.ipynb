{
 "cells": [
  {
   "cell_type": "code",
   "execution_count": 5,
   "id": "a0ba8177-50e7-4902-88d8-7ebcf7c5f409",
   "metadata": {},
   "outputs": [],
   "source": [
    "import requests\n",
    "import json\n",
    "from bs4 import BeautifulSoup as bts\n",
    "import pandas as pd\n",
    "import numpy as np\n",
    "import time\n",
    "from tqdm.notebook import tqdm\n",
    "import os\n",
    "import datetime"
   ]
  },
  {
   "cell_type": "code",
   "execution_count": 6,
   "id": "2a1a16c0-4c13-408b-aefc-ed8b7ee298b5",
   "metadata": {},
   "outputs": [],
   "source": [
    "# 네이버뉴스 링크를 수집하고 데이터프레임으로 반환하는 함수 생성\n",
    "def NaverNewsLink(searchWord, startNo = 1, startDate='', endDate=''):\n",
    "    \n",
    "    # HTTP 요청 실행\n",
    "    # 쿼리 문자열: 정렬(sort)-관련도순, 기간(pd)-전체\n",
    "    res = requests.get(\n",
    "        url = 'https://s.search.naver.com/p/newssearch/search.naver',         \n",
    "        params = {\n",
    "            'nqx_theme': {'theme':{'main':{'name':'sports_event'},'sub':[{'name':'issue'}]}},\n",
    "            'query': searchWord,\n",
    "            'sort': 0,\n",
    "            'spq': 3,\n",
    "            'pd': 0,\n",
    "            'start': startNo,\n",
    "            'where': 'news_tab_api',\n",
    "            'ds': startDate,\n",
    "            'de': endDate \n",
    "        }\n",
    "    )\n",
    "    \n",
    "    # JSON 형태의 문자열을 딕셔너리로 변환\n",
    "    dic = json.loads(s = res.text)\n",
    "    \n",
    "    # 딕셔너리의 각 원소를 bs4.BeautifulSoup 객체로 변환\n",
    "    # [주의] HTTP 응답 바디 문자열에 공백이 있으면 items의 원소로 추가되므로 삭제해야 함\n",
    "    items = [bts(markup = i.strip(), features = 'html.parser') for i in dic['contents']]\n",
    "    \n",
    "    # 뉴스 링크를 포함하는 HTML 요소를 원소로 갖는 links 생성\n",
    "    links = [item.select('a.info:last-child') for item in items]\n",
    "\n",
    "    # 기사 작성 일시를 포함하는 HTML 요소를 원소로 갖는 dates 생성\n",
    "    dates = [item.select('span.info')[0].text for item in items if len(item.select('span.info')) > 0]\n",
    "    \n",
    "    # 언론사, 제목 및 네이버뉴스 링크를 원소로 갖는 데이터프레임 생성\n",
    "    newsList = pd.DataFrame(data = {\n",
    "        'press': [item.select(selector = 'a.press')[0].text for item in items], \n",
    "        'title': [item.select(selector = 'a.news_tit')[0].text for item in items], \n",
    "        'nlink': [link[0]['href'] if len(link) >= 1 else np.nan for link in links],\n",
    "        'date': dates\n",
    "    })\n",
    "    \n",
    "    # 데이터프레임 반환\n",
    "    return newsList"
   ]
  },
  {
   "cell_type": "code",
   "execution_count": 3,
   "id": "ee681ccc-4669-4f95-bddf-f1d90c390b27",
   "metadata": {},
   "outputs": [],
   "source": [
    "# 특정 검색어와 날짜 범위를 설정하고 1년 동안의 기사를 수집하는 함수\n",
    "def collect_year_news(searchWord):\n",
    "    newsList = pd.DataFrame() # 결과 저장할 빈 프레임\n",
    "    end_date = datetime.datetime.now() # 오늘\n",
    "    start_date = end_date - datetime.timedelta(days=365) # 1년전 날짜\n",
    "    \n",
    "    while start_date <= end_date: # 1년치 뉴스 수집\n",
    "        # 날짜별 뉴스 수집\n",
    "        df = NaverNewsLink(\n",
    "            searchWord, \n",
    "            startNo=1,  # 첫 번째 페이지에서 시작 (기본 10개 기사 가져오기)\n",
    "            startDate=start_date.strftime('%Y.%m.%d'), \n",
    "            endDate=start_date.strftime('%Y.%m.%d')\n",
    "        )\n",
    "        \n",
    "        # 수집한 데이터를 newsList에 추가\n",
    "        newsList = pd.concat([newsList, df], ignore_index=True)\n",
    "        \n",
    "        # 1초간 멈춤 (너무 빠르게 요청하지 않도록)\n",
    "        time.sleep(1)\n",
    "        \n",
    "        # 하루씩 증가\n",
    "        start_date += datetime.timedelta(days=1)\n",
    "    \n",
    "    return newsList"
   ]
  },
  {
   "cell_type": "code",
   "execution_count": 1,
   "id": "b4db6374-2de2-46ba-96db-f2960bc0a9f1",
   "metadata": {},
   "outputs": [],
   "source": [
    "# 검색어 설정\n",
    "searchWord = '삼성전자'"
   ]
  },
  {
   "cell_type": "code",
   "execution_count": 7,
   "id": "b5dc4995-0d90-4c22-bb4e-47569e9283a2",
   "metadata": {
    "scrolled": true
   },
   "outputs": [],
   "source": [
    "newsList = collect_year_news(searchWord)\n",
    "#print(newsList.tail(10))"
   ]
  },
  {
   "cell_type": "code",
   "execution_count": 8,
   "id": "3d68083e-acfd-4fe1-8ce1-6572757075f1",
   "metadata": {},
   "outputs": [
    {
     "name": "stdout",
     "output_type": "stream",
     "text": [
      "<class 'pandas.core.frame.DataFrame'>\n",
      "RangeIndex: 3660 entries, 0 to 3659\n",
      "Data columns (total 4 columns):\n",
      " #   Column  Non-Null Count  Dtype \n",
      "---  ------  --------------  ----- \n",
      " 0   press   3660 non-null   object\n",
      " 1   title   3660 non-null   object\n",
      " 2   nlink   3657 non-null   object\n",
      " 3   date    3660 non-null   object\n",
      "dtypes: object(4)\n",
      "memory usage: 114.5+ KB\n"
     ]
    }
   ],
   "source": [
    "newsList.info()"
   ]
  },
  {
   "cell_type": "code",
   "execution_count": 9,
   "id": "2f144505-e0c1-4c04-b8a4-a21663ef2f89",
   "metadata": {},
   "outputs": [],
   "source": [
    "# press에서 '언론사 선정' 삭제\n",
    "newsList['press'] = newsList['press'].str.replace(pat = '언론사 선정', repl = '')"
   ]
  },
  {
   "cell_type": "code",
   "execution_count": 10,
   "id": "11127ad7-1b97-4ba0-9700-bf74206fa4cc",
   "metadata": {},
   "outputs": [
    {
     "data": {
      "text/plain": [
       "0    TV조선\n",
       "1    경향신문\n",
       "2    연합뉴스\n",
       "3     뉴스1\n",
       "4     뉴시스\n",
       "Name: press, dtype: object"
      ]
     },
     "execution_count": 10,
     "metadata": {},
     "output_type": "execute_result"
    }
   ],
   "source": [
    "# press 처음 5행 확인\n",
    "newsList['press'].head()"
   ]
  },
  {
   "cell_type": "code",
   "execution_count": 11,
   "id": "e65f389e-140d-4335-997f-e404d63ef42f",
   "metadata": {},
   "outputs": [],
   "source": [
    "# nlink가 결측인 행 삭제\n",
    "newsList = newsList.loc[newsList['nlink'].notna(), :]"
   ]
  },
  {
   "cell_type": "code",
   "execution_count": 12,
   "id": "d2cc88e5-045e-498a-be61-ae15ea9cd6e1",
   "metadata": {},
   "outputs": [
    {
     "data": {
      "text/plain": [
       "3657"
      ]
     },
     "execution_count": 12,
     "metadata": {},
     "output_type": "execute_result"
    }
   ],
   "source": [
    "# newsList의 행 개수 확인\n",
    "newsList.shape[0]"
   ]
  },
  {
   "cell_type": "code",
   "execution_count": 13,
   "id": "9140d469-f639-44e4-b260-39aa8e0d5813",
   "metadata": {},
   "outputs": [],
   "source": [
    "# nlink의 중복 여부(True/False)를 원소로 갖는 dups 생성\n",
    "# [참고] keep 매개변수에 'first'를 지정하면 첫 번째 중복 건은 False로 반환\n",
    "dups = newsList['nlink'].duplicated(keep = 'first')"
   ]
  },
  {
   "cell_type": "code",
   "execution_count": 14,
   "id": "08d0ec6e-4aba-4aa9-8561-b19dd1d83316",
   "metadata": {},
   "outputs": [
    {
     "data": {
      "text/plain": [
       "np.int64(3636)"
      ]
     },
     "execution_count": 14,
     "metadata": {},
     "output_type": "execute_result"
    }
   ],
   "source": [
    "# nlink가 중복(dups가 True)인 건수 확인\n",
    "dups.sum() "
   ]
  },
  {
   "cell_type": "code",
   "execution_count": 15,
   "id": "da5076fe-f190-42cc-9062-0834d2432df4",
   "metadata": {},
   "outputs": [],
   "source": [
    "# nlink가 중복인 행이 있으면 해당 행을 삭제\n",
    "#newsList = newsList.loc[~dups, :]"
   ]
  },
  {
   "cell_type": "code",
   "execution_count": 16,
   "id": "4c59a7c8-fbcb-4c65-ba6f-2d3e1e3277ad",
   "metadata": {},
   "outputs": [
    {
     "data": {
      "text/plain": [
       "3657"
      ]
     },
     "execution_count": 16,
     "metadata": {},
     "output_type": "execute_result"
    }
   ],
   "source": [
    "# newsList의 행 개수 확인\n",
    "newsList.shape[0]"
   ]
  },
  {
   "cell_type": "code",
   "execution_count": 17,
   "id": "4c719612-7a17-41f8-a29c-11d637d4e224",
   "metadata": {},
   "outputs": [],
   "source": [
    "# nlink에서 쿼리 문자열 삭제\n",
    "newsList['nlink'] = newsList['nlink'].str.replace(pat = r'(\\?.+)', repl = '', regex = True)"
   ]
  },
  {
   "cell_type": "code",
   "execution_count": 18,
   "id": "bb01ea04-b6a1-44cd-b36d-6f822ff38fb6",
   "metadata": {},
   "outputs": [
    {
     "data": {
      "text/html": [
       "<div>\n",
       "<style scoped>\n",
       "    .dataframe tbody tr th:only-of-type {\n",
       "        vertical-align: middle;\n",
       "    }\n",
       "\n",
       "    .dataframe tbody tr th {\n",
       "        vertical-align: top;\n",
       "    }\n",
       "\n",
       "    .dataframe thead th {\n",
       "        text-align: right;\n",
       "    }\n",
       "</style>\n",
       "<table border=\"1\" class=\"dataframe\">\n",
       "  <thead>\n",
       "    <tr style=\"text-align: right;\">\n",
       "      <th></th>\n",
       "      <th>press</th>\n",
       "      <th>title</th>\n",
       "      <th>nlink</th>\n",
       "      <th>date</th>\n",
       "    </tr>\n",
       "  </thead>\n",
       "  <tbody>\n",
       "    <tr>\n",
       "      <th>3655</th>\n",
       "      <td>한국경제TV</td>\n",
       "      <td>삼성전자, 저전력 특화 '24Gb GDDR7 D램' 개발</td>\n",
       "      <td>https://n.news.naver.com/mnews/article/215/000...</td>\n",
       "      <td>2시간 전</td>\n",
       "    </tr>\n",
       "    <tr>\n",
       "      <th>3656</th>\n",
       "      <td>지디넷코리아</td>\n",
       "      <td>삼성전자, 28일 갤럭시북5 프로 360 국내 출시</td>\n",
       "      <td>https://n.news.naver.com/mnews/article/092/000...</td>\n",
       "      <td>1일 전</td>\n",
       "    </tr>\n",
       "    <tr>\n",
       "      <th>3657</th>\n",
       "      <td>노컷뉴스</td>\n",
       "      <td>삼성전자, AI PC '갤럭시 북5 프로 360' 28일 국내 출시</td>\n",
       "      <td>https://n.news.naver.com/mnews/article/079/000...</td>\n",
       "      <td>1일 전</td>\n",
       "    </tr>\n",
       "    <tr>\n",
       "      <th>3658</th>\n",
       "      <td>뉴시스</td>\n",
       "      <td>삼성전자·SK하이닉스 강세…\"TSMC 실적 촉각\"[핫스탁]</td>\n",
       "      <td>https://n.news.naver.com/mnews/article/003/001...</td>\n",
       "      <td>2시간 전</td>\n",
       "    </tr>\n",
       "    <tr>\n",
       "      <th>3659</th>\n",
       "      <td>세계일보</td>\n",
       "      <td>삼성전자에 발등 찍힌 국민연금 [경제 레이더]</td>\n",
       "      <td>https://n.news.naver.com/mnews/article/022/000...</td>\n",
       "      <td>A14면 1단</td>\n",
       "    </tr>\n",
       "  </tbody>\n",
       "</table>\n",
       "</div>"
      ],
      "text/plain": [
       "       press                                  title  \\\n",
       "3655  한국경제TV        삼성전자, 저전력 특화 '24Gb GDDR7 D램' 개발   \n",
       "3656  지디넷코리아           삼성전자, 28일 갤럭시북5 프로 360 국내 출시   \n",
       "3657    노컷뉴스  삼성전자, AI PC '갤럭시 북5 프로 360' 28일 국내 출시   \n",
       "3658     뉴시스       삼성전자·SK하이닉스 강세…\"TSMC 실적 촉각\"[핫스탁]   \n",
       "3659    세계일보              삼성전자에 발등 찍힌 국민연금 [경제 레이더]   \n",
       "\n",
       "                                                  nlink     date  \n",
       "3655  https://n.news.naver.com/mnews/article/215/000...    2시간 전  \n",
       "3656  https://n.news.naver.com/mnews/article/092/000...     1일 전  \n",
       "3657  https://n.news.naver.com/mnews/article/079/000...     1일 전  \n",
       "3658  https://n.news.naver.com/mnews/article/003/001...    2시간 전  \n",
       "3659  https://n.news.naver.com/mnews/article/022/000...  A14면 1단  "
      ]
     },
     "execution_count": 18,
     "metadata": {},
     "output_type": "execute_result"
    }
   ],
   "source": [
    "# newsList의 처음 5행 확인\n",
    "newsList.tail()"
   ]
  },
  {
   "cell_type": "code",
   "execution_count": 19,
   "id": "c7514e49-680c-4d4c-80dc-1dceafb5f1e7",
   "metadata": {},
   "outputs": [],
   "source": [
    "# newsList의 행이름 초기화\n",
    "newsList = newsList.reset_index(drop = True)"
   ]
  },
  {
   "cell_type": "code",
   "execution_count": 27,
   "id": "b87f6fbf-544d-4fa3-ac4f-5a042967e769",
   "metadata": {},
   "outputs": [
    {
     "data": {
      "text/html": [
       "<div>\n",
       "<style scoped>\n",
       "    .dataframe tbody tr th:only-of-type {\n",
       "        vertical-align: middle;\n",
       "    }\n",
       "\n",
       "    .dataframe tbody tr th {\n",
       "        vertical-align: top;\n",
       "    }\n",
       "\n",
       "    .dataframe thead th {\n",
       "        text-align: right;\n",
       "    }\n",
       "</style>\n",
       "<table border=\"1\" class=\"dataframe\">\n",
       "  <thead>\n",
       "    <tr style=\"text-align: right;\">\n",
       "      <th></th>\n",
       "      <th>press</th>\n",
       "      <th>title</th>\n",
       "      <th>nlink</th>\n",
       "      <th>date</th>\n",
       "    </tr>\n",
       "  </thead>\n",
       "  <tbody>\n",
       "    <tr>\n",
       "      <th>0</th>\n",
       "      <td>TV조선</td>\n",
       "      <td>삼성전자, 업계 최초 '24Gb GDDR7 D램' 개발</td>\n",
       "      <td>https://n.news.naver.com/mnews/article/448/000...</td>\n",
       "      <td>2시간 전</td>\n",
       "    </tr>\n",
       "    <tr>\n",
       "      <th>1</th>\n",
       "      <td>경향신문</td>\n",
       "      <td>삼성전자, 역대급으로 얇은 ‘갤럭시 Z폴드SE’ 21일 공개</td>\n",
       "      <td>https://n.news.naver.com/mnews/article/032/000...</td>\n",
       "      <td>30분 전</td>\n",
       "    </tr>\n",
       "    <tr>\n",
       "      <th>2</th>\n",
       "      <td>연합뉴스</td>\n",
       "      <td>삼성전자, 업계 최초 24Gb GDDR7 D램 개발…내년 초 제품 상용화</td>\n",
       "      <td>https://n.news.naver.com/mnews/article/001/001...</td>\n",
       "      <td>2시간 전</td>\n",
       "    </tr>\n",
       "    <tr>\n",
       "      <th>3</th>\n",
       "      <td>뉴스1</td>\n",
       "      <td>\"문틈도 가뿐히 통과\"…삼성전자, 갤폴드 슬림 21일 공개</td>\n",
       "      <td>https://n.news.naver.com/mnews/article/421/000...</td>\n",
       "      <td>32분 전</td>\n",
       "    </tr>\n",
       "    <tr>\n",
       "      <th>4</th>\n",
       "      <td>뉴시스</td>\n",
       "      <td>삼성전자·SK하이닉스 강세…\"TSMC 실적 촉각\"[핫스탁]</td>\n",
       "      <td>https://n.news.naver.com/mnews/article/003/001...</td>\n",
       "      <td>1시간 전</td>\n",
       "    </tr>\n",
       "  </tbody>\n",
       "</table>\n",
       "</div>"
      ],
      "text/plain": [
       "  press                                     title  \\\n",
       "0  TV조선            삼성전자, 업계 최초 '24Gb GDDR7 D램' 개발   \n",
       "1  경향신문         삼성전자, 역대급으로 얇은 ‘갤럭시 Z폴드SE’ 21일 공개   \n",
       "2  연합뉴스  삼성전자, 업계 최초 24Gb GDDR7 D램 개발…내년 초 제품 상용화   \n",
       "3   뉴스1          \"문틈도 가뿐히 통과\"…삼성전자, 갤폴드 슬림 21일 공개   \n",
       "4   뉴시스          삼성전자·SK하이닉스 강세…\"TSMC 실적 촉각\"[핫스탁]   \n",
       "\n",
       "                                               nlink   date  \n",
       "0  https://n.news.naver.com/mnews/article/448/000...  2시간 전  \n",
       "1  https://n.news.naver.com/mnews/article/032/000...  30분 전  \n",
       "2  https://n.news.naver.com/mnews/article/001/001...  2시간 전  \n",
       "3  https://n.news.naver.com/mnews/article/421/000...  32분 전  \n",
       "4  https://n.news.naver.com/mnews/article/003/001...  1시간 전  "
      ]
     },
     "execution_count": 27,
     "metadata": {},
     "output_type": "execute_result"
    }
   ],
   "source": [
    "# newsList의 처음 5행 확인\n",
    "newsList.head()"
   ]
  },
  {
   "cell_type": "code",
   "execution_count": 21,
   "id": "c1be1f93-83c8-4062-9edc-92b235862a9c",
   "metadata": {},
   "outputs": [
    {
     "data": {
      "text/plain": [
       "'C:\\\\Users\\\\2-13\\\\Desktop\\\\DMF\\\\final\\\\naver'"
      ]
     },
     "execution_count": 21,
     "metadata": {},
     "output_type": "execute_result"
    }
   ],
   "source": [
    "# 현재 작업 경로 확인\n",
    "os.getcwd()"
   ]
  },
  {
   "cell_type": "code",
   "execution_count": 22,
   "id": "8cf6dec4-f08a-4364-a0fd-748b37c05aa0",
   "metadata": {},
   "outputs": [],
   "source": [
    "# newsList를 pkl 파일로 저장\n",
    "pd.to_pickle(obj = newsList, filepath_or_buffer = 'Naver_News_List.pkl')"
   ]
  },
  {
   "cell_type": "code",
   "execution_count": 23,
   "id": "d64fca68-d911-421a-aaee-2fe600e923a7",
   "metadata": {},
   "outputs": [
    {
     "data": {
      "text/plain": [
       "['.ipynb_checkpoints',\n",
       " 'crawling.py',\n",
       " 'data',\n",
       " 'Naver_News_List.pkl',\n",
       " 'naver_news_samsung.csv',\n",
       " '삼전 크롤링 step2.ipynb',\n",
       " '삼전크롤링.ipynb']"
      ]
     },
     "execution_count": 23,
     "metadata": {},
     "output_type": "execute_result"
    }
   ],
   "source": [
    "# 현재 작업 경로에 있는 폴더명과 파일명 확인\n",
    "os.listdir()"
   ]
  },
  {
   "cell_type": "markdown",
   "id": "d513bcf1-b997-434c-abc2-6e2bfd37a167",
   "metadata": {},
   "source": [
    "## end of document"
   ]
  },
  {
   "cell_type": "code",
   "execution_count": null,
   "id": "eb7fd2ac-f182-4a86-ad81-d47e04ed938d",
   "metadata": {},
   "outputs": [],
   "source": []
  }
 ],
 "metadata": {
  "kernelspec": {
   "display_name": "Python 3 (ipykernel)",
   "language": "python",
   "name": "python3"
  },
  "language_info": {
   "codemirror_mode": {
    "name": "ipython",
    "version": 3
   },
   "file_extension": ".py",
   "mimetype": "text/x-python",
   "name": "python",
   "nbconvert_exporter": "python",
   "pygments_lexer": "ipython3",
   "version": "3.12.4"
  }
 },
 "nbformat": 4,
 "nbformat_minor": 5
}
