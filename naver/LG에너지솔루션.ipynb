{
 "cells": [
  {
   "cell_type": "code",
   "execution_count": 41,
   "id": "deb040f7-8e8d-490c-8f95-a044ad6844c8",
   "metadata": {},
   "outputs": [],
   "source": [
    "# 라이브러리 호출\n",
    "import requests\n",
    "import json\n",
    "from bs4 import BeautifulSoup as bts\n",
    "import pandas as pd\n",
    "import numpy as np\n",
    "import time\n",
    "from tqdm.notebook import tqdm\n",
    "import os"
   ]
  },
  {
   "cell_type": "code",
   "execution_count": 43,
   "id": "2301b7bc-e431-493b-98b3-23f4c9358640",
   "metadata": {},
   "outputs": [],
   "source": [
    "# 네이버뉴스 링크를 수집하고 데이터프레임으로 반환하는 함수 생성\n",
    "def NaverNewsLink(searchWord, startNo = 1):\n",
    "    \n",
    "    # HTTP 요청 실행\n",
    "    # 쿼리 문자열: 정렬(sort)-관련도순, 기간(pd)-전체\n",
    "    res = requests.get(\n",
    "        url = 'https://s.search.naver.com/p/newssearch/search.naver',         \n",
    "        params = {\n",
    "            'nqx_theme': {'theme':{'main':{'name':'sports_event'},'sub':[{'name':'issue'}]}},\n",
    "            'query': searchWord,\n",
    "            'sort': 0, #관련도순:0, 최신순:1, 오래된순:2\n",
    "            'spq': 3,\n",
    "            'pd': 0,\n",
    "            'start': startNo,\n",
    "            'where': 'news_tab_api',\n",
    "        }\n",
    "    )\n",
    "    \n",
    "    # JSON 형태의 문자열을 딕셔너리로 변환\n",
    "    dic = json.loads(s = res.text)\n",
    "    \n",
    "    # 딕셔너리의 각 원소를 bs4.BeautifulSoup 객체로 변환\n",
    "    # [주의] HTTP 응답 바디 문자열에 공백이 있으면 items의 원소로 추가되므로 삭제해야 함\n",
    "    items = [bts(markup = i.strip(), features = 'html.parser') for i in dic['contents']]\n",
    "    \n",
    "    # 뉴스 링크를 포함하는 HTML 요소를 원소로 갖는 links 생성\n",
    "    links = [item.select('a.info:last-child') for item in items]\n",
    "\n",
    "    # 기사 작성 일시를 포함하는 HTML 요소를 원소로 갖는 dates 생성\n",
    "    dates = [item.select('span.info')[0].text for item in items if len(item.select('span.info')) > 0]\n",
    "    \n",
    "    # 언론사, 제목 및 네이버뉴스 링크를 원소로 갖는 데이터프레임 생성\n",
    "    newsList = pd.DataFrame(data = {\n",
    "        'press': [item.select(selector = 'a.press')[0].text for item in items], \n",
    "        'title': [item.select(selector = 'a.news_tit')[0].text for item in items], \n",
    "        'nlink': [link[0]['href'] if len(link) >= 1 else np.nan for link in links],\n",
    "        'date': dates\n",
    "    })\n",
    "    \n",
    "    # 데이터프레임 반환\n",
    "    return newsList"
   ]
  },
  {
   "cell_type": "code",
   "execution_count": 44,
   "id": "96d9a232-7e31-4f6f-ad8a-54520eb50394",
   "metadata": {},
   "outputs": [],
   "source": [
    "# 검색어 설정\n",
    "searchWord = 'LG에너지솔루션'"
   ]
  },
  {
   "cell_type": "code",
   "execution_count": 45,
   "id": "ed9b1ff6-b41f-4aad-b4d1-31178ef92ed4",
   "metadata": {},
   "outputs": [
    {
     "data": {
      "text/html": [
       "<div>\n",
       "<style scoped>\n",
       "    .dataframe tbody tr th:only-of-type {\n",
       "        vertical-align: middle;\n",
       "    }\n",
       "\n",
       "    .dataframe tbody tr th {\n",
       "        vertical-align: top;\n",
       "    }\n",
       "\n",
       "    .dataframe thead th {\n",
       "        text-align: right;\n",
       "    }\n",
       "</style>\n",
       "<table border=\"1\" class=\"dataframe\">\n",
       "  <thead>\n",
       "    <tr style=\"text-align: right;\">\n",
       "      <th></th>\n",
       "      <th>press</th>\n",
       "      <th>title</th>\n",
       "      <th>nlink</th>\n",
       "      <th>date</th>\n",
       "    </tr>\n",
       "  </thead>\n",
       "  <tbody>\n",
       "    <tr>\n",
       "      <th>0</th>\n",
       "      <td>한국경제언론사 선정</td>\n",
       "      <td>이번엔 '13조' 터졌다…LG엔솔, 일주일 만에 또 '잭팟'</td>\n",
       "      <td>https://n.news.naver.com/mnews/article/015/000...</td>\n",
       "      <td>A13면 1단</td>\n",
       "    </tr>\n",
       "    <tr>\n",
       "      <th>1</th>\n",
       "      <td>매일경제언론사 선정</td>\n",
       "      <td>K배터리 제대로 터졌다…美 포드와 13조 규모 잭팟 계약 맺은 LG엔솔</td>\n",
       "      <td>https://n.news.naver.com/mnews/article/009/000...</td>\n",
       "      <td>2일 전</td>\n",
       "    </tr>\n",
       "    <tr>\n",
       "      <th>2</th>\n",
       "      <td>세계일보언론사 선정</td>\n",
       "      <td>LG엔솔, 美 포드에 2032년까지 배터리 공급</td>\n",
       "      <td>https://n.news.naver.com/mnews/article/022/000...</td>\n",
       "      <td>A17면 1단</td>\n",
       "    </tr>\n",
       "    <tr>\n",
       "      <th>3</th>\n",
       "      <td>뉴스1</td>\n",
       "      <td>배터리 넘어 에너지순환 생태계 선도…LG엔솔 \"2028년 매출 2배\"</td>\n",
       "      <td>https://n.news.naver.com/mnews/article/421/000...</td>\n",
       "      <td>35분 전</td>\n",
       "    </tr>\n",
       "    <tr>\n",
       "      <th>4</th>\n",
       "      <td>뉴시스언론사 선정</td>\n",
       "      <td>LFP부터 46파이 원통형까지…'잭팟' 배터리 장점은[LG엔솔 달린다②]</td>\n",
       "      <td>https://n.news.naver.com/mnews/article/003/001...</td>\n",
       "      <td>1일 전</td>\n",
       "    </tr>\n",
       "    <tr>\n",
       "      <th>5</th>\n",
       "      <td>한경비즈니스언론사 선정</td>\n",
       "      <td>LG엔솔, 포드와 배터리 동맹…'13조 잭팟' 터졌다</td>\n",
       "      <td>https://n.news.naver.com/mnews/article/050/000...</td>\n",
       "      <td>2일 전</td>\n",
       "    </tr>\n",
       "    <tr>\n",
       "      <th>6</th>\n",
       "      <td>노컷뉴스</td>\n",
       "      <td>LG에너지솔루션 '함솔이' 봉사단, 독거어르신 생신 잔치 봉사</td>\n",
       "      <td>https://n.news.naver.com/mnews/article/079/000...</td>\n",
       "      <td>1일 전</td>\n",
       "    </tr>\n",
       "    <tr>\n",
       "      <th>7</th>\n",
       "      <td>경향신문언론사 선정</td>\n",
       "      <td>[단독]LG엔솔 ‘불법파견’ 의혹…배터리 생산 공정 하청 노동자 4명 소...</td>\n",
       "      <td>https://n.news.naver.com/mnews/article/032/000...</td>\n",
       "      <td>1일 전</td>\n",
       "    </tr>\n",
       "    <tr>\n",
       "      <th>8</th>\n",
       "      <td>전자신문언론사 선정</td>\n",
       "      <td>LG엔솔, 포드 상용차에 배터리 공급…13조 이상 초대형 수주</td>\n",
       "      <td>https://n.news.naver.com/mnews/article/030/000...</td>\n",
       "      <td>17면 TOP</td>\n",
       "    </tr>\n",
       "    <tr>\n",
       "      <th>9</th>\n",
       "      <td>스포츠조선</td>\n",
       "      <td>LG에너지솔루션, 포드에 상용차용 배터리 공급</td>\n",
       "      <td>https://n.news.naver.com/mnews/article/076/000...</td>\n",
       "      <td>2일 전</td>\n",
       "    </tr>\n",
       "  </tbody>\n",
       "</table>\n",
       "</div>"
      ],
      "text/plain": [
       "          press                                        title  \\\n",
       "0    한국경제언론사 선정            이번엔 '13조' 터졌다…LG엔솔, 일주일 만에 또 '잭팟'   \n",
       "1    매일경제언론사 선정      K배터리 제대로 터졌다…美 포드와 13조 규모 잭팟 계약 맺은 LG엔솔   \n",
       "2    세계일보언론사 선정                   LG엔솔, 美 포드에 2032년까지 배터리 공급   \n",
       "3           뉴스1       배터리 넘어 에너지순환 생태계 선도…LG엔솔 \"2028년 매출 2배\"   \n",
       "4     뉴시스언론사 선정     LFP부터 46파이 원통형까지…'잭팟' 배터리 장점은[LG엔솔 달린다②]   \n",
       "5  한경비즈니스언론사 선정                LG엔솔, 포드와 배터리 동맹…'13조 잭팟' 터졌다   \n",
       "6          노컷뉴스           LG에너지솔루션 '함솔이' 봉사단, 독거어르신 생신 잔치 봉사   \n",
       "7    경향신문언론사 선정  [단독]LG엔솔 ‘불법파견’ 의혹…배터리 생산 공정 하청 노동자 4명 소...   \n",
       "8    전자신문언론사 선정           LG엔솔, 포드 상용차에 배터리 공급…13조 이상 초대형 수주   \n",
       "9         스포츠조선                    LG에너지솔루션, 포드에 상용차용 배터리 공급   \n",
       "\n",
       "                                               nlink     date  \n",
       "0  https://n.news.naver.com/mnews/article/015/000...  A13면 1단  \n",
       "1  https://n.news.naver.com/mnews/article/009/000...     2일 전  \n",
       "2  https://n.news.naver.com/mnews/article/022/000...  A17면 1단  \n",
       "3  https://n.news.naver.com/mnews/article/421/000...    35분 전  \n",
       "4  https://n.news.naver.com/mnews/article/003/001...     1일 전  \n",
       "5  https://n.news.naver.com/mnews/article/050/000...     2일 전  \n",
       "6  https://n.news.naver.com/mnews/article/079/000...     1일 전  \n",
       "7  https://n.news.naver.com/mnews/article/032/000...     1일 전  \n",
       "8  https://n.news.naver.com/mnews/article/030/000...  17면 TOP  \n",
       "9  https://n.news.naver.com/mnews/article/076/000...     2일 전  "
      ]
     },
     "execution_count": 45,
     "metadata": {},
     "output_type": "execute_result"
    }
   ],
   "source": [
    "# 함수 테스트\n",
    "NaverNewsLink(searchWord = searchWord)"
   ]
  },
  {
   "cell_type": "code",
   "execution_count": 46,
   "id": "d4e679fb-2cab-4c48-8229-38a265af7107",
   "metadata": {},
   "outputs": [],
   "source": [
    "# 수집 건수 설정\n",
    "count = 1000"
   ]
  },
  {
   "cell_type": "code",
   "execution_count": 51,
   "id": "97e69ecb-da71-4565-8b9c-0c9eac911694",
   "metadata": {},
   "outputs": [
    {
     "data": {
      "application/vnd.jupyter.widget-view+json": {
       "model_id": "3b8e4b9c84e848eca9a5933473ad936c",
       "version_major": 2,
       "version_minor": 0
      },
      "text/plain": [
       "  0%|          | 0/100 [00:00<?, ?it/s]"
      ]
     },
     "metadata": {},
     "output_type": "display_data"
    }
   ],
   "source": [
    "# 최종 결과를 저장할 빈 데이터프레임 생성\n",
    "newsList = pd.DataFrame()\n",
    "\n",
    "# 반복문으로 관련 네이버뉴스 링크 수집\n",
    "for i in tqdm(range(1, count + 1, 10)):\n",
    "    \n",
    "    # 네이버뉴스 링크를 수집하고 df에 할당\n",
    "    df = NaverNewsLink(searchWord = searchWord, startNo = i)\n",
    "    \n",
    "    # 최종 결과에 df에 추가(행이름 삭제)\n",
    "    newsList = pd.concat(objs = [newsList, df], ignore_index = True)\n",
    "    \n",
    "    # 1초간 멈춤\n",
    "    time.sleep(1)"
   ]
  },
  {
   "cell_type": "code",
   "execution_count": 68,
   "id": "9b056f70-3986-416e-bc4d-fb3e580e96e5",
   "metadata": {},
   "outputs": [],
   "source": [
    "# nlink가 결측인 행 삭제\n",
    "newsList = newsList.loc[newsList['nlink'].notna(), :]"
   ]
  },
  {
   "cell_type": "code",
   "execution_count": 69,
   "id": "b2aae7cf-99d0-43bf-b5fb-7614ddc392ca",
   "metadata": {},
   "outputs": [],
   "source": [
    "# press에서 '언론사 선정' 삭제\n",
    "newsList['press'] = newsList['press'].str.replace(pat = '언론사 선정', repl = '')"
   ]
  },
  {
   "cell_type": "code",
   "execution_count": 70,
   "id": "d9a3d313-b1c9-4c27-9604-5161614fd7e5",
   "metadata": {},
   "outputs": [
    {
     "data": {
      "text/plain": [
       "398"
      ]
     },
     "execution_count": 70,
     "metadata": {},
     "output_type": "execute_result"
    }
   ],
   "source": [
    "# newsList의 행 개수 확인\n",
    "newsList.shape[0]"
   ]
  },
  {
   "cell_type": "code",
   "execution_count": 71,
   "id": "797cef37-d936-4e40-8c1b-5e810263b66d",
   "metadata": {},
   "outputs": [],
   "source": [
    "# nlink에서 쿼리 문자열 삭제\n",
    "newsList['nlink'] = newsList['nlink'].str.replace(pat = r'(\\?.+)', repl = '', regex = True)"
   ]
  },
  {
   "cell_type": "code",
   "execution_count": 75,
   "id": "d89b3eb3-c7c2-40cf-b21e-b51bf54c990e",
   "metadata": {},
   "outputs": [],
   "source": [
    "# 두 데이터프레임의 인덱스를 정렬하여 일치시키는 방법도 있어:\n",
    "dups = newsList.duplicated(subset='nlink').reset_index(drop=True)\n",
    "newsList = newsList.reset_index(drop=True)\n",
    "newsList = newsList.loc[~dups, :]\n",
    "\n",
    "\n",
    "# nlink가 중복인 행이 있으면 해당 행을 삭제\n",
    "#newsList = newsList.loc[~dups, :]"
   ]
  },
  {
   "cell_type": "code",
   "execution_count": 76,
   "id": "83e81244-a9ca-4d02-bc96-845e1e953c7e",
   "metadata": {},
   "outputs": [
    {
     "data": {
      "text/plain": [
       "294"
      ]
     },
     "execution_count": 76,
     "metadata": {},
     "output_type": "execute_result"
    }
   ],
   "source": [
    "# newsList의 행 개수 확인\n",
    "newsList.shape[0]"
   ]
  },
  {
   "cell_type": "code",
   "execution_count": 77,
   "id": "304da1da-8d9e-40c2-854e-42d7cb985ece",
   "metadata": {},
   "outputs": [],
   "source": [
    "# nlink에서 쿼리 문자열 삭제\n",
    "newsList['nlink'] = newsList['nlink'].str.replace(pat = r'(\\?.+)', repl = '', regex = True)"
   ]
  },
  {
   "cell_type": "code",
   "execution_count": 78,
   "id": "7f55ed15-60dd-4cea-beb5-555384a88983",
   "metadata": {},
   "outputs": [],
   "source": [
    "# newsList의 행이름 초기화\n",
    "newsList = newsList.reset_index(drop = True)"
   ]
  },
  {
   "cell_type": "code",
   "execution_count": 79,
   "id": "39a246e4-8647-4a2a-ba2a-e9452ceadea9",
   "metadata": {},
   "outputs": [
    {
     "data": {
      "text/html": [
       "<div>\n",
       "<style scoped>\n",
       "    .dataframe tbody tr th:only-of-type {\n",
       "        vertical-align: middle;\n",
       "    }\n",
       "\n",
       "    .dataframe tbody tr th {\n",
       "        vertical-align: top;\n",
       "    }\n",
       "\n",
       "    .dataframe thead th {\n",
       "        text-align: right;\n",
       "    }\n",
       "</style>\n",
       "<table border=\"1\" class=\"dataframe\">\n",
       "  <thead>\n",
       "    <tr style=\"text-align: right;\">\n",
       "      <th></th>\n",
       "      <th>press</th>\n",
       "      <th>title</th>\n",
       "      <th>nlink</th>\n",
       "      <th>date</th>\n",
       "    </tr>\n",
       "  </thead>\n",
       "  <tbody>\n",
       "    <tr>\n",
       "      <th>289</th>\n",
       "      <td>세계일보</td>\n",
       "      <td>LG엔솔·삼성SDI, 전기상용차 배터리 선보여</td>\n",
       "      <td>https://n.news.naver.com/mnews/article/022/000...</td>\n",
       "      <td>A15면 1단</td>\n",
       "    </tr>\n",
       "    <tr>\n",
       "      <th>290</th>\n",
       "      <td>파이낸셜뉴스</td>\n",
       "      <td>LG엔솔·삼성SDI \"차세대 배터리 솔루션 선도\"</td>\n",
       "      <td>https://n.news.naver.com/mnews/article/014/000...</td>\n",
       "      <td>14면 1단</td>\n",
       "    </tr>\n",
       "    <tr>\n",
       "      <th>291</th>\n",
       "      <td>디지털타임스</td>\n",
       "      <td>이달훈 LG엔솔 상무 \"셀 13만개 분해한 데이터 기반 `BMTS` 개발\" 자신감</td>\n",
       "      <td>https://n.news.naver.com/mnews/article/029/000...</td>\n",
       "      <td>3주 전</td>\n",
       "    </tr>\n",
       "    <tr>\n",
       "      <th>292</th>\n",
       "      <td>연합뉴스</td>\n",
       "      <td>LG엔솔, CATL 제치고 중국 현지서 배터리 품질 부문 1위 차지</td>\n",
       "      <td>https://n.news.naver.com/mnews/article/001/001...</td>\n",
       "      <td>3주 전</td>\n",
       "    </tr>\n",
       "    <tr>\n",
       "      <th>293</th>\n",
       "      <td>헤럴드경제</td>\n",
       "      <td>“신재생 에너지가 전기 가장 많이 만드는 시대 온다” [헤럴드 기업포...</td>\n",
       "      <td>https://n.news.naver.com/mnews/article/016/000...</td>\n",
       "      <td>4면 TOP</td>\n",
       "    </tr>\n",
       "  </tbody>\n",
       "</table>\n",
       "</div>"
      ],
      "text/plain": [
       "      press                                          title  \\\n",
       "289    세계일보                      LG엔솔·삼성SDI, 전기상용차 배터리 선보여   \n",
       "290  파이낸셜뉴스                    LG엔솔·삼성SDI \"차세대 배터리 솔루션 선도\"   \n",
       "291  디지털타임스  이달훈 LG엔솔 상무 \"셀 13만개 분해한 데이터 기반 `BMTS` 개발\" 자신감   \n",
       "292    연합뉴스          LG엔솔, CATL 제치고 중국 현지서 배터리 품질 부문 1위 차지   \n",
       "293   헤럴드경제      “신재생 에너지가 전기 가장 많이 만드는 시대 온다” [헤럴드 기업포...   \n",
       "\n",
       "                                                 nlink     date  \n",
       "289  https://n.news.naver.com/mnews/article/022/000...  A15면 1단  \n",
       "290  https://n.news.naver.com/mnews/article/014/000...   14면 1단  \n",
       "291  https://n.news.naver.com/mnews/article/029/000...     3주 전  \n",
       "292  https://n.news.naver.com/mnews/article/001/001...     3주 전  \n",
       "293  https://n.news.naver.com/mnews/article/016/000...   4면 TOP  "
      ]
     },
     "execution_count": 79,
     "metadata": {},
     "output_type": "execute_result"
    }
   ],
   "source": [
    "# newsList의 처음 5행 확인\n",
    "newsList.tail()"
   ]
  },
  {
   "cell_type": "code",
   "execution_count": 80,
   "id": "caa76f13-d39c-48b3-aedf-06686198e07c",
   "metadata": {},
   "outputs": [
    {
     "data": {
      "text/plain": [
       "'C:\\\\Users\\\\2-13\\\\Desktop\\\\DMF\\\\final\\\\naver'"
      ]
     },
     "execution_count": 80,
     "metadata": {},
     "output_type": "execute_result"
    }
   ],
   "source": [
    "# 현재 작업 경로 확인\n",
    "os.getcwd()"
   ]
  },
  {
   "cell_type": "code",
   "execution_count": 81,
   "id": "a8d0bf06-0d72-4ab7-9dc5-f735f92a6ca2",
   "metadata": {},
   "outputs": [],
   "source": [
    "# newsList를 pkl 파일로 저장\n",
    "pd.to_pickle(obj = newsList, filepath_or_buffer = 'Naver_News_List_3.pkl')"
   ]
  },
  {
   "cell_type": "code",
   "execution_count": 82,
   "id": "b4c148b1-9de5-4d14-8f78-0102fe2a9682",
   "metadata": {},
   "outputs": [
    {
     "data": {
      "text/plain": [
       "['.ipynb_checkpoints',\n",
       " 'crawling.py',\n",
       " 'data',\n",
       " 'LG에너지솔루션.ipynb',\n",
       " 'naver_news_hinix.csv',\n",
       " 'Naver_News_List.pkl',\n",
       " 'Naver_News_List_2.pkl',\n",
       " 'Naver_News_List_3.pkl',\n",
       " 'naver_news_samsung.csv',\n",
       " 'SK하이닉스크롤링.ipynb',\n",
       " 'SK하이닉스크롤링step2.ipynb',\n",
       " 'Untitled.ipynb',\n",
       " '삼전 크롤링 step2.ipynb',\n",
       " '삼전크롤링.ipynb']"
      ]
     },
     "execution_count": 82,
     "metadata": {},
     "output_type": "execute_result"
    }
   ],
   "source": [
    "# 현재 작업 경로에 있는 폴더명과 파일명 확인\n",
    "os.listdir()"
   ]
  },
  {
   "cell_type": "code",
   "execution_count": null,
   "id": "83bed47a-fc7a-466e-8082-2f27d2a5b928",
   "metadata": {},
   "outputs": [],
   "source": []
  }
 ],
 "metadata": {
  "kernelspec": {
   "display_name": "Python 3 (ipykernel)",
   "language": "python",
   "name": "python3"
  },
  "language_info": {
   "codemirror_mode": {
    "name": "ipython",
    "version": 3
   },
   "file_extension": ".py",
   "mimetype": "text/x-python",
   "name": "python",
   "nbconvert_exporter": "python",
   "pygments_lexer": "ipython3",
   "version": "3.12.4"
  }
 },
 "nbformat": 4,
 "nbformat_minor": 5
}
