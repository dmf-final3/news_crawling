{
 "cells": [
  {
   "cell_type": "code",
   "execution_count": 1,
   "id": "114dc45b-c955-4f82-8c52-5b9d0db45885",
   "metadata": {},
   "outputs": [],
   "source": [
    "# 라이브러리 호출\n",
    "import os\n",
    "import pandas as pd\n",
    "import numpy as np\n",
    "import requests\n",
    "from bs4 import BeautifulSoup as bts\n",
    "import json\n",
    "import re\n",
    "import time\n",
    "from tqdm.notebook import tqdm"
   ]
  },
  {
   "cell_type": "code",
   "execution_count": 2,
   "id": "4cd08bc7-84a1-4602-9ad4-6a1cc16db717",
   "metadata": {},
   "outputs": [
    {
     "data": {
      "text/plain": [
       "'C:\\\\Users\\\\2-13\\\\Desktop\\\\DMF\\\\final\\\\naver'"
      ]
     },
     "execution_count": 2,
     "metadata": {},
     "output_type": "execute_result"
    }
   ],
   "source": [
    "# 현재 작업 경로 확인\n",
    "os.getcwd()"
   ]
  },
  {
   "cell_type": "code",
   "execution_count": 3,
   "id": "8f5a8e10-b0ea-4a54-abee-cd2194395ec9",
   "metadata": {},
   "outputs": [
    {
     "data": {
      "text/plain": [
       "['.ipynb_checkpoints',\n",
       " 'crawling.py',\n",
       " 'data',\n",
       " 'LG에너지솔루션.ipynb',\n",
       " 'LG에너지솔루션step2.ipynb',\n",
       " 'naver_news_hinix.csv',\n",
       " 'Naver_News_List.pkl',\n",
       " 'Naver_News_List_2.pkl',\n",
       " 'Naver_News_List_3.pkl',\n",
       " 'naver_news_samsung.csv',\n",
       " 'SK하이닉스크롤링.ipynb',\n",
       " 'SK하이닉스크롤링step2.ipynb',\n",
       " '삼전 크롤링 step2.ipynb',\n",
       " '삼전크롤링.ipynb']"
      ]
     },
     "execution_count": 3,
     "metadata": {},
     "output_type": "execute_result"
    }
   ],
   "source": [
    "# 현재 작업 경로에 있는 폴더명과 파일명 확인\n",
    "os.listdir()"
   ]
  },
  {
   "cell_type": "code",
   "execution_count": 4,
   "id": "cecb8f39-af32-4b3d-b63e-fbe43f9f9c52",
   "metadata": {},
   "outputs": [],
   "source": [
    "# pkl 파일을 읽고 newsList 생성\n",
    "newsList = pd.read_pickle(filepath_or_buffer = 'Naver_News_List_3.pkl')"
   ]
  },
  {
   "cell_type": "code",
   "execution_count": 5,
   "id": "87cd34a5-ebbf-40f9-ad9f-a7beb56ce287",
   "metadata": {},
   "outputs": [
    {
     "data": {
      "text/html": [
       "<div>\n",
       "<style scoped>\n",
       "    .dataframe tbody tr th:only-of-type {\n",
       "        vertical-align: middle;\n",
       "    }\n",
       "\n",
       "    .dataframe tbody tr th {\n",
       "        vertical-align: top;\n",
       "    }\n",
       "\n",
       "    .dataframe thead th {\n",
       "        text-align: right;\n",
       "    }\n",
       "</style>\n",
       "<table border=\"1\" class=\"dataframe\">\n",
       "  <thead>\n",
       "    <tr style=\"text-align: right;\">\n",
       "      <th></th>\n",
       "      <th>press</th>\n",
       "      <th>title</th>\n",
       "      <th>nlink</th>\n",
       "      <th>date</th>\n",
       "    </tr>\n",
       "  </thead>\n",
       "  <tbody>\n",
       "    <tr>\n",
       "      <th>289</th>\n",
       "      <td>세계일보</td>\n",
       "      <td>LG엔솔·삼성SDI, 전기상용차 배터리 선보여</td>\n",
       "      <td>https://n.news.naver.com/mnews/article/022/000...</td>\n",
       "      <td>A15면 1단</td>\n",
       "    </tr>\n",
       "    <tr>\n",
       "      <th>290</th>\n",
       "      <td>파이낸셜뉴스</td>\n",
       "      <td>LG엔솔·삼성SDI \"차세대 배터리 솔루션 선도\"</td>\n",
       "      <td>https://n.news.naver.com/mnews/article/014/000...</td>\n",
       "      <td>14면 1단</td>\n",
       "    </tr>\n",
       "    <tr>\n",
       "      <th>291</th>\n",
       "      <td>디지털타임스</td>\n",
       "      <td>이달훈 LG엔솔 상무 \"셀 13만개 분해한 데이터 기반 `BMTS` 개발\" 자신감</td>\n",
       "      <td>https://n.news.naver.com/mnews/article/029/000...</td>\n",
       "      <td>3주 전</td>\n",
       "    </tr>\n",
       "    <tr>\n",
       "      <th>292</th>\n",
       "      <td>연합뉴스</td>\n",
       "      <td>LG엔솔, CATL 제치고 중국 현지서 배터리 품질 부문 1위 차지</td>\n",
       "      <td>https://n.news.naver.com/mnews/article/001/001...</td>\n",
       "      <td>3주 전</td>\n",
       "    </tr>\n",
       "    <tr>\n",
       "      <th>293</th>\n",
       "      <td>헤럴드경제</td>\n",
       "      <td>“신재생 에너지가 전기 가장 많이 만드는 시대 온다” [헤럴드 기업포...</td>\n",
       "      <td>https://n.news.naver.com/mnews/article/016/000...</td>\n",
       "      <td>4면 TOP</td>\n",
       "    </tr>\n",
       "  </tbody>\n",
       "</table>\n",
       "</div>"
      ],
      "text/plain": [
       "      press                                          title  \\\n",
       "289    세계일보                      LG엔솔·삼성SDI, 전기상용차 배터리 선보여   \n",
       "290  파이낸셜뉴스                    LG엔솔·삼성SDI \"차세대 배터리 솔루션 선도\"   \n",
       "291  디지털타임스  이달훈 LG엔솔 상무 \"셀 13만개 분해한 데이터 기반 `BMTS` 개발\" 자신감   \n",
       "292    연합뉴스          LG엔솔, CATL 제치고 중국 현지서 배터리 품질 부문 1위 차지   \n",
       "293   헤럴드경제      “신재생 에너지가 전기 가장 많이 만드는 시대 온다” [헤럴드 기업포...   \n",
       "\n",
       "                                                 nlink     date  \n",
       "289  https://n.news.naver.com/mnews/article/022/000...  A15면 1단  \n",
       "290  https://n.news.naver.com/mnews/article/014/000...   14면 1단  \n",
       "291  https://n.news.naver.com/mnews/article/029/000...     3주 전  \n",
       "292  https://n.news.naver.com/mnews/article/001/001...     3주 전  \n",
       "293  https://n.news.naver.com/mnews/article/016/000...   4면 TOP  "
      ]
     },
     "execution_count": 5,
     "metadata": {},
     "output_type": "execute_result"
    }
   ],
   "source": [
    "# newsList의 처음 5행 확인\n",
    "newsList.tail()"
   ]
  },
  {
   "cell_type": "code",
   "execution_count": 6,
   "id": "97ce187d-0184-4db8-a98d-b69eca49933d",
   "metadata": {},
   "outputs": [
    {
     "name": "stdout",
     "output_type": "stream",
     "text": [
      "<class 'pandas.core.frame.DataFrame'>\n",
      "RangeIndex: 294 entries, 0 to 293\n",
      "Data columns (total 4 columns):\n",
      " #   Column  Non-Null Count  Dtype \n",
      "---  ------  --------------  ----- \n",
      " 0   press   294 non-null    object\n",
      " 1   title   294 non-null    object\n",
      " 2   nlink   294 non-null    object\n",
      " 3   date    294 non-null    object\n",
      "dtypes: object(4)\n",
      "memory usage: 9.3+ KB\n"
     ]
    }
   ],
   "source": [
    "# newsList의 정보 확인\n",
    "newsList.info()"
   ]
  },
  {
   "cell_type": "code",
   "execution_count": 7,
   "id": "3ba71a0c-5c5e-4ede-8e4a-1dcca40b428e",
   "metadata": {},
   "outputs": [],
   "source": [
    "# 네이버뉴스 링크로 HTTP 요청을 실행하고 뉴스 본문을 반환하는 함수 생성\n",
    "def NaverNewsBody(nlink):\n",
    "    \n",
    "    # nlink에 따라 HTTP 요청 실행 및 응답 바디 문자열 처리 코드 분기\n",
    "    if 'https://n.news' in nlink:\n",
    "        \n",
    "        # 네이버뉴스 링크로 HTTP 요청 실행\n",
    "        res = requests.get(url = nlink)\n",
    "        \n",
    "        # HTTP 응답 바디 문자열을 bs4.BeautifulSoup 객체로 변환\n",
    "        soup = bts(markup = res.text, features = 'html.parser')\n",
    "        \n",
    "        # soup에서 뉴스 본문을 포함하는 HTML 요소 선택\n",
    "        item = soup.select_one(selector = '#dic_area, div._article_content')\n",
    "        \n",
    "        # item의 텍스트 반환\n",
    "        # [참고] strip()은 문자열 양 옆에 있는 공백을 모두 제거함\n",
    "        return item.text.strip()\n",
    "    \n",
    "    elif 'https://m' in nlink:\n",
    "        \n",
    "        # 'https://m'으로 시작하는 nlink의 일부 문자열 변경한 url 생성\n",
    "        url = re.sub(pattern = 'https://m.(sports|entertain).naver.com(.+)?(?=/article)', \n",
    "                     repl = r'https://api-gw.\\1.naver.com/news', \n",
    "                     string = newsList['nlink'].iloc[i])\n",
    "        \n",
    "        # url로 HTTP 요청 실행\n",
    "        res = requests.get(url = url)\n",
    "        \n",
    "        # JSON 형태의 문자열을 딕셔너리로 변환\n",
    "        dic = json.loads(s = res.text)\n",
    "        \n",
    "        # 뉴스 본문 반환\n",
    "        return dic['result']['articleInfo']['article']['content']"
   ]
  },
  {
   "cell_type": "code",
   "execution_count": 8,
   "id": "5cd5a13e-c281-40c9-a056-db366994abcb",
   "metadata": {},
   "outputs": [],
   "source": [
    "# 인덱스 설정: 첫 번째 원소\n",
    "# [참고] 반복문으로 실행할 코드에 인덱스를 추가하면 편리함\n",
    "i = 0"
   ]
  },
  {
   "cell_type": "code",
   "execution_count": 9,
   "id": "07085442-bf25-4c9b-bfb3-d1e215f8ed46",
   "metadata": {},
   "outputs": [
    {
     "name": "stdout",
     "output_type": "stream",
     "text": [
      "https://n.news.naver.com/mnews/article/015/0005044471\n"
     ]
    }
   ],
   "source": [
    "# 해당 인덱스의 nlink 확인\n",
    "print(newsList['nlink'].iloc[i])"
   ]
  },
  {
   "cell_type": "code",
   "execution_count": 10,
   "id": "739cd9c9-dfa7-4da5-be34-14679165e26c",
   "metadata": {},
   "outputs": [
    {
     "data": {
      "text/plain": [
       "'LG엔솔, 포드에 13兆 배터리 공급 \\'잭팟\\'전기차 캐즘에도 잇단 수주109GWh 규모…밴 100만대분지난주 벤츠 이어 대규모 계약폴란드 공장 가동률 대폭 늘 듯상용차용 배터리 생산 까다로워승용차보다 고출력·내구성 필요LG엔솔 \"품질·성능 인정받아\"\\n\\n\\n\\n서울 여의도 LG에너지솔루션 본사. 사진=한경DBLG에너지솔루션이 미국 빅3 완성차 업체인 포드로부터 13조원이 넘는 상용차용 배터리 물량을 수주했다. 지난 8일 메르세데스벤츠와 수조원 규모의 중대형 원통형 배터리 공급 계약을 맺은 지 1주일 만에 다시 한번 ‘잭팟’을 터뜨렸다. LG에너지솔루션이 삼원계 배터리, 리튬·인산철(LFP) 배터리, 에너지저장장치(ESS)용 배터리 등으로 포트폴리오를 다각화한 덕분에 전기차 캐즘(일시적 수요둔화)을 이겨내고 있다는 평가가 나온다.1주일 만에 또 대규모 수주LG에너지솔루션은 포드와 총 109기가와트시(GWh) 규모의 배터리 셀과 모듈을 공급하는 계약을 15일 맺었다고 공시했다. 이 회사가 따낸 전기 상용차용 배터리 계약 가운데 가장 많은 물량이다. LG에너지솔루션은 NCMA(니켈·코발트·망간·알루미늄) 파우치형 배터리를 폴란드 공장에서 생산해 포드에 공급할 계획이다. LG에너지솔루션은 앞서 지난 8일 메르세데스벤츠와 10년간 50.5GWh 규모의 중대형 원통형 배터리 공급 계약을 맺었다.\\n\\n\\n\\n이번 계약은 2027~2032년 6년간 75GWh와 2026~2030년 5년간 34GWh를 공급하는 두 건으로 이뤄졌다. 지난해 두 회사가 추진했다가 접은 튀르키예 합작공장 물량에 신규 물량이 추가됐다. LG에너지솔루션은 유럽 전기차 판매 둔화로 가동률이 떨어진 폴란드 공장(연산 90GWh)의 생산성을 높일 수 있게 됐다. 60%로 추정되는 이 공장 가동률은 LG에너지솔루션 실적의 발목을 잡고 있었다. 회사는 폴란드 공장 생산라인을 ESS용, LFP용 등으로 다양화해 생산 효율성을 끌어올릴 계획이다.회사 측은 수주금액을 밝히지 않았지만 업계에서는 13조원 이상의 매출을 올릴 것으로 보고 있다. 블룸버그뉴에너지파이낸스(BNEF)가 발표한 배터리 셀 가격(㎾h당 89달러)을 곱한 값이다. 이번 계약은 셀뿐만 아니라 모듈까지 공급한다는 점을 고려하면 13조원보다 금액이 클 것으로 관측된다. 원자재 가격 변동과 시장 상황에 따라 셀 납품 단가가 달라질 수 있는 점을 감안해 수주금액을 공개하지 않은 것으로 알려졌다. 김동명 LG에너지솔루션 사장은 “현지 생산능력을 활용해 유럽 시장에서 선도적 지위를 공고히 할 것”이라고 말했다.전기 상용차 시장서 두각LG에너지솔루션이 생산한 배터리는 포드가 유럽에서 판매하는 전기밴인 ‘E-트랜짓’에 전량 장착될 것으로 알려졌다. E-트랜짓에는 대당 84㎾h 배터리가 들어가는데, 전체 공급량(109GWh)을 기준으로 계산하면 약 100만 대에 납품할 수 있는 규모다.시장조사업체 마크라인즈에 따르면 E-트랜짓은 지난해 6175대 판매됐다. 올해는 1~8월 기준으로 2537대가 팔려 전년보다 실적이 좋지 않았다. 유럽 각국에서 전기차 판매 보조금을 줄인 탓이다. 하지만 전기차 시장은 장기적으로 성장할 것이란 데 모두가 동의하고 있다. 자동차 전문 리서치기업 LMC오토모티브에 따르면 2030년 유럽 상용차의 절반 이상이 전기차가 될 전망이다. 업계 관계자는 “트랜짓 내연기관 모델은 2018~2023년 연속으로 경상용차(LCV) 시장에서 판매량 1위를 차지할 정도로 인기가 높다”며 “E-트랜짓 수요도 갈수록 늘어날 것”이라고 말했다.전기 상용차는 전기 승용차에 비해 한 대당 배터리 탑재량이 많다. 상용차의 특성상 평균 운행 거리가 길고, 눈이나 비가 오는 날씨에 운행하는 경우도 잦다. 완성차 업체들이 품질이 검증된 배터리를 상용차에 장착하는 이유다. LG에너지솔루션 관계자는 “전기 상용차용 배터리는 승용차용보다 납품단가가 높고 계약기간도 길어 수익성이 높다”고 말했다.'"
      ]
     },
     "execution_count": 10,
     "metadata": {},
     "output_type": "execute_result"
    }
   ],
   "source": [
    "# 함수 테스트\n",
    "NaverNewsBody(nlink = newsList['nlink'].iloc[i])"
   ]
  },
  {
   "cell_type": "code",
   "execution_count": 11,
   "id": "a2e9427b-16fb-4da3-905a-cd273fbcfeeb",
   "metadata": {},
   "outputs": [],
   "source": [
    "# 경고를 출력하지 않도록 설정\n",
    "import warnings\n",
    "warnings.filterwarnings('ignore')"
   ]
  },
  {
   "cell_type": "code",
   "execution_count": 12,
   "id": "0f9599dc-bf85-45ab-b0fc-caa4d8f169c0",
   "metadata": {},
   "outputs": [
    {
     "name": "stdout",
     "output_type": "stream",
     "text": [
      "294\n"
     ]
    }
   ],
   "source": [
    "# 반복 실행할 횟수 생성\n",
    "n = len(newsList)\n",
    "print(n)"
   ]
  },
  {
   "cell_type": "code",
   "execution_count": 13,
   "id": "df676b63-4e91-496a-ae28-81ec0264a473",
   "metadata": {},
   "outputs": [
    {
     "data": {
      "application/vnd.jupyter.widget-view+json": {
       "model_id": "fd77fef7c3a548999af00a711070dffa",
       "version_major": 2,
       "version_minor": 0
      },
      "text/plain": [
       "  0%|          | 0/294 [00:00<?, ?it/s]"
      ]
     },
     "metadata": {},
     "output_type": "display_data"
    }
   ],
   "source": [
    "# newsList에 뉴스 본문을 저장할 열 추가\n",
    "newsList['body'] = np.nan\n",
    "\n",
    "# 반복문으로 네이버뉴스 본문 수집\n",
    "for i in tqdm(range(n)):\n",
    "    \n",
    "    # 네이버뉴스 링크로 뉴스 본문 수집\n",
    "    newsList['body'].iloc[i] = NaverNewsBody(nlink = newsList['nlink'].iloc[i])\n",
    "    \n",
    "    # 1초간 멈춤\n",
    "    time.sleep(1)"
   ]
  },
  {
   "cell_type": "code",
   "execution_count": 14,
   "id": "61f736d6-aa38-4f22-8da0-3a5cbbf5363c",
   "metadata": {},
   "outputs": [
    {
     "data": {
      "text/html": [
       "<div>\n",
       "<style scoped>\n",
       "    .dataframe tbody tr th:only-of-type {\n",
       "        vertical-align: middle;\n",
       "    }\n",
       "\n",
       "    .dataframe tbody tr th {\n",
       "        vertical-align: top;\n",
       "    }\n",
       "\n",
       "    .dataframe thead th {\n",
       "        text-align: right;\n",
       "    }\n",
       "</style>\n",
       "<table border=\"1\" class=\"dataframe\">\n",
       "  <thead>\n",
       "    <tr style=\"text-align: right;\">\n",
       "      <th></th>\n",
       "      <th>press</th>\n",
       "      <th>title</th>\n",
       "      <th>nlink</th>\n",
       "      <th>date</th>\n",
       "      <th>body</th>\n",
       "    </tr>\n",
       "  </thead>\n",
       "  <tbody>\n",
       "    <tr>\n",
       "      <th>289</th>\n",
       "      <td>세계일보</td>\n",
       "      <td>LG엔솔·삼성SDI, 전기상용차 배터리 선보여</td>\n",
       "      <td>https://n.news.naver.com/mnews/article/022/000...</td>\n",
       "      <td>A15면 1단</td>\n",
       "      <td>‘IAA 트랜스포테이션’ 참석차세대 제품·솔루션 등 공개LG에너지솔루션과 삼성SDI...</td>\n",
       "    </tr>\n",
       "    <tr>\n",
       "      <th>290</th>\n",
       "      <td>파이낸셜뉴스</td>\n",
       "      <td>LG엔솔·삼성SDI \"차세대 배터리 솔루션 선도\"</td>\n",
       "      <td>https://n.news.naver.com/mnews/article/014/000...</td>\n",
       "      <td>14면 1단</td>\n",
       "      <td>최대 상용차전시회 獨 IAA서 공개 \\n\\n\\n\\n오는 22일까지 독일 하노버에서 ...</td>\n",
       "    </tr>\n",
       "    <tr>\n",
       "      <th>291</th>\n",
       "      <td>디지털타임스</td>\n",
       "      <td>이달훈 LG엔솔 상무 \"셀 13만개 분해한 데이터 기반 `BMTS` 개발\" 자신감</td>\n",
       "      <td>https://n.news.naver.com/mnews/article/029/000...</td>\n",
       "      <td>3주 전</td>\n",
       "      <td>LG에너지솔루션이 BMTS(배터리 관리 토탈 솔루션) 사업의 새로운 브랜드인 'B....</td>\n",
       "    </tr>\n",
       "    <tr>\n",
       "      <th>292</th>\n",
       "      <td>연합뉴스</td>\n",
       "      <td>LG엔솔, CATL 제치고 중국 현지서 배터리 품질 부문 1위 차지</td>\n",
       "      <td>https://n.news.naver.com/mnews/article/001/001...</td>\n",
       "      <td>3주 전</td>\n",
       "      <td>(서울=연합뉴스) 장하나 기자 = LG에너지솔루션이 중국 배터리 업체인 CATL과 ...</td>\n",
       "    </tr>\n",
       "    <tr>\n",
       "      <th>293</th>\n",
       "      <td>헤럴드경제</td>\n",
       "      <td>“신재생 에너지가 전기 가장 많이 만드는 시대 온다” [헤럴드 기업포...</td>\n",
       "      <td>https://n.news.naver.com/mnews/article/016/000...</td>\n",
       "      <td>4면 TOP</td>\n",
       "      <td>이우현 OCI홀딩스 회장친환경 전환 거스를 수 없는 기류태양광이 지배적 발전방식 될...</td>\n",
       "    </tr>\n",
       "  </tbody>\n",
       "</table>\n",
       "</div>"
      ],
      "text/plain": [
       "      press                                          title  \\\n",
       "289    세계일보                      LG엔솔·삼성SDI, 전기상용차 배터리 선보여   \n",
       "290  파이낸셜뉴스                    LG엔솔·삼성SDI \"차세대 배터리 솔루션 선도\"   \n",
       "291  디지털타임스  이달훈 LG엔솔 상무 \"셀 13만개 분해한 데이터 기반 `BMTS` 개발\" 자신감   \n",
       "292    연합뉴스          LG엔솔, CATL 제치고 중국 현지서 배터리 품질 부문 1위 차지   \n",
       "293   헤럴드경제      “신재생 에너지가 전기 가장 많이 만드는 시대 온다” [헤럴드 기업포...   \n",
       "\n",
       "                                                 nlink     date  \\\n",
       "289  https://n.news.naver.com/mnews/article/022/000...  A15면 1단   \n",
       "290  https://n.news.naver.com/mnews/article/014/000...   14면 1단   \n",
       "291  https://n.news.naver.com/mnews/article/029/000...     3주 전   \n",
       "292  https://n.news.naver.com/mnews/article/001/001...     3주 전   \n",
       "293  https://n.news.naver.com/mnews/article/016/000...   4면 TOP   \n",
       "\n",
       "                                                  body  \n",
       "289  ‘IAA 트랜스포테이션’ 참석차세대 제품·솔루션 등 공개LG에너지솔루션과 삼성SDI...  \n",
       "290  최대 상용차전시회 獨 IAA서 공개 \\n\\n\\n\\n오는 22일까지 독일 하노버에서 ...  \n",
       "291  LG에너지솔루션이 BMTS(배터리 관리 토탈 솔루션) 사업의 새로운 브랜드인 'B....  \n",
       "292  (서울=연합뉴스) 장하나 기자 = LG에너지솔루션이 중국 배터리 업체인 CATL과 ...  \n",
       "293  이우현 OCI홀딩스 회장친환경 전환 거스를 수 없는 기류태양광이 지배적 발전방식 될...  "
      ]
     },
     "execution_count": 14,
     "metadata": {},
     "output_type": "execute_result"
    }
   ],
   "source": [
    "# newsList의 처음 5행 확인\n",
    "newsList.tail()"
   ]
  },
  {
   "cell_type": "code",
   "execution_count": 15,
   "id": "cad844e1-4795-41cc-91f6-9335ddb10951",
   "metadata": {},
   "outputs": [],
   "source": [
    "# 결과를 CSV 파일로 저장\n",
    "newsList.to_csv('naver_news_3.csv', index=False, encoding='utf-8-sig')"
   ]
  },
  {
   "cell_type": "code",
   "execution_count": null,
   "id": "d7b83424-b35d-452c-8c16-924e1bd03dc6",
   "metadata": {},
   "outputs": [],
   "source": []
  }
 ],
 "metadata": {
  "kernelspec": {
   "display_name": "Python 3 (ipykernel)",
   "language": "python",
   "name": "python3"
  },
  "language_info": {
   "codemirror_mode": {
    "name": "ipython",
    "version": 3
   },
   "file_extension": ".py",
   "mimetype": "text/x-python",
   "name": "python",
   "nbconvert_exporter": "python",
   "pygments_lexer": "ipython3",
   "version": "3.12.4"
  }
 },
 "nbformat": 4,
 "nbformat_minor": 5
}
