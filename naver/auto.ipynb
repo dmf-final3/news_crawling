{
 "cells": [
  {
   "cell_type": "code",
   "execution_count": 20,
   "id": "9550b15e-de59-4a7c-82a3-b87b79a1496c",
   "metadata": {},
   "outputs": [],
   "source": [
    "import requests\n",
    "import json\n",
    "from bs4 import BeautifulSoup as bts\n",
    "import pandas as pd\n",
    "import numpy as np\n",
    "import time\n",
    "from tqdm import tqdm\n",
    "from tqdm.notebook import tqdm\n",
    "import os\n",
    "import re\n",
    "import datetime"
   ]
  },
  {
   "cell_type": "code",
   "execution_count": 21,
   "id": "6c8c2819-dde4-44b0-918e-2468f2255e11",
   "metadata": {},
   "outputs": [],
   "source": [
    "def NaverNewsLink(searchWord, startNo=1, startDate='', endDate=''):\n",
    "    res = requests.get(\n",
    "        url='https://s.search.naver.com/p/newssearch/search.naver',\n",
    "        params={\n",
    "            'nqx_theme': {'theme': {'main': {'name': 'sports_event'}, 'sub': [{'name': 'issue'}]}},\n",
    "            'query': searchWord,\n",
    "            'sort': 0,\n",
    "            'spq': 3,\n",
    "            'pd': 0,\n",
    "            'start': startNo,\n",
    "            'where': 'news_tab_api',\n",
    "            'ds': startDate,\n",
    "            'de': endDate\n",
    "        }\n",
    "    )\n",
    "\n",
    "    dic = json.loads(res.text)\n",
    "    items = [bts(markup=i.strip(), features='html.parser') for i in dic['contents']]\n",
    "    links = [item.select('a.info:last-child') for item in items]\n",
    "    dates = [item.select('span.info')[0].text for item in items if len(item.select('span.info')) > 0]\n",
    "\n",
    "    newsList = pd.DataFrame(data={\n",
    "        'press': [item.select('a.press')[0].text for item in items],\n",
    "        'title': [item.select('a.news_tit')[0].text for item in items],\n",
    "        'nlink': [link[0]['href'] if len(link) >= 1 else np.nan for link in links],\n",
    "        'date': dates\n",
    "    })\n",
    "\n",
    "    return newsList"
   ]
  },
  {
   "cell_type": "code",
   "execution_count": 22,
   "id": "536a5b4a-b5f4-4bb1-9222-267d30a490e4",
   "metadata": {},
   "outputs": [],
   "source": [
    "def collect_year_news(searchWord, topN):\n",
    "    newsList = pd.DataFrame()\n",
    "    end_date = datetime.datetime.now()\n",
    "    start_date = end_date - datetime.timedelta(days=365)\n",
    "    \n",
    "    for single_date in tqdm(pd.date_range(start_date, end_date)):\n",
    "        start_date_str = single_date.strftime('%Y.%m.%d')\n",
    "        df = NaverNewsLink(searchWord, startNo=1, startDate=start_date_str, endDate=start_date_str)\n",
    "        newsList = pd.concat([newsList, df], ignore_index=True)\n",
    "        time.sleep(1)\n",
    "\n",
    "    # nlink가 결측인 행 삭제\n",
    "    newsList = newsList.loc[newsList['nlink'].notna(), :]\n",
    "    # press에서 '언론사 선정' 삭제\n",
    "    newsList['press'] = newsList['press'].str.replace(pat='언론사 선정', repl='')\n",
    "    # nlink에서 쿼리 문자열 삭제\n",
    "    newsList['nlink'] = newsList['nlink'].str.replace(pat=r'(\\?.+)', repl='', regex=True)\n",
    "    # 중복된 nlink 확인 후 삭제\n",
    "    newsList = newsList.drop_duplicates(subset='nlink').reset_index(drop=True)\n",
    "    # 데이터프레임 저장\n",
    "    pd.to_pickle(obj=newsList, filepath_or_buffer=f'Naver_News_List_{topN}.pkl')"
   ]
  },
  {
   "cell_type": "code",
   "execution_count": 23,
   "id": "5d48eda8-3a90-49ab-a8ce-0004b88e635b",
   "metadata": {},
   "outputs": [
    {
     "data": {
      "application/vnd.jupyter.widget-view+json": {
       "model_id": "7c96953d49214bb5b8beee344c815667",
       "version_major": 2,
       "version_minor": 0
      },
      "text/plain": [
       "  0%|          | 0/366 [00:00<?, ?it/s]"
      ]
     },
     "metadata": {},
     "output_type": "display_data"
    },
    {
     "name": "stdout",
     "output_type": "stream",
     "text": [
      "삼성전자 뉴스 수집 완료 및 저장\n"
     ]
    },
    {
     "data": {
      "application/vnd.jupyter.widget-view+json": {
       "model_id": "65281325a6ba4affb6bc6edd915cb365",
       "version_major": 2,
       "version_minor": 0
      },
      "text/plain": [
       "  0%|          | 0/366 [00:00<?, ?it/s]"
      ]
     },
     "metadata": {},
     "output_type": "display_data"
    },
    {
     "name": "stdout",
     "output_type": "stream",
     "text": [
      "SK하이닉스 뉴스 수집 완료 및 저장\n"
     ]
    },
    {
     "data": {
      "application/vnd.jupyter.widget-view+json": {
       "model_id": "5663485700ff42f5944fd0dbd1f5f171",
       "version_major": 2,
       "version_minor": 0
      },
      "text/plain": [
       "  0%|          | 0/366 [00:00<?, ?it/s]"
      ]
     },
     "metadata": {},
     "output_type": "display_data"
    },
    {
     "name": "stdout",
     "output_type": "stream",
     "text": [
      "LG화학 뉴스 수집 완료 및 저장\n"
     ]
    },
    {
     "data": {
      "application/vnd.jupyter.widget-view+json": {
       "model_id": "a2437c4b8601405e8ac3055e2936ba9d",
       "version_major": 2,
       "version_minor": 0
      },
      "text/plain": [
       "  0%|          | 0/366 [00:00<?, ?it/s]"
      ]
     },
     "metadata": {},
     "output_type": "display_data"
    },
    {
     "name": "stdout",
     "output_type": "stream",
     "text": [
      "삼성바이오로직스 뉴스 수집 완료 및 저장\n"
     ]
    },
    {
     "data": {
      "application/vnd.jupyter.widget-view+json": {
       "model_id": "a973731765824b7f93401c674340b085",
       "version_major": 2,
       "version_minor": 0
      },
      "text/plain": [
       "  0%|          | 0/366 [00:00<?, ?it/s]"
      ]
     },
     "metadata": {},
     "output_type": "display_data"
    },
    {
     "name": "stdout",
     "output_type": "stream",
     "text": [
      "현대차 뉴스 수집 완료 및 저장\n"
     ]
    },
    {
     "data": {
      "application/vnd.jupyter.widget-view+json": {
       "model_id": "9cdaa244a00a45cda15f7faa52c13cdf",
       "version_major": 2,
       "version_minor": 0
      },
      "text/plain": [
       "  0%|          | 0/366 [00:00<?, ?it/s]"
      ]
     },
     "metadata": {},
     "output_type": "display_data"
    },
    {
     "name": "stdout",
     "output_type": "stream",
     "text": [
      "셀트리온 뉴스 수집 완료 및 저장\n"
     ]
    },
    {
     "data": {
      "application/vnd.jupyter.widget-view+json": {
       "model_id": "953e4c47175f4b57833ebc299766ead1",
       "version_major": 2,
       "version_minor": 0
      },
      "text/plain": [
       "  0%|          | 0/366 [00:00<?, ?it/s]"
      ]
     },
     "metadata": {},
     "output_type": "display_data"
    },
    {
     "name": "stdout",
     "output_type": "stream",
     "text": [
      "NAVER 뉴스 수집 완료 및 저장\n"
     ]
    },
    {
     "data": {
      "application/vnd.jupyter.widget-view+json": {
       "model_id": "756d0b97247747cab60dccc57f9cb566",
       "version_major": 2,
       "version_minor": 0
      },
      "text/plain": [
       "  0%|          | 0/366 [00:00<?, ?it/s]"
      ]
     },
     "metadata": {},
     "output_type": "display_data"
    },
    {
     "name": "stdout",
     "output_type": "stream",
     "text": [
      "카카오 뉴스 수집 완료 및 저장\n"
     ]
    },
    {
     "data": {
      "application/vnd.jupyter.widget-view+json": {
       "model_id": "e49f377d31ce4e349655b5ff7977073d",
       "version_major": 2,
       "version_minor": 0
      },
      "text/plain": [
       "  0%|          | 0/366 [00:00<?, ?it/s]"
      ]
     },
     "metadata": {},
     "output_type": "display_data"
    },
    {
     "name": "stdout",
     "output_type": "stream",
     "text": [
      "현대모비스 뉴스 수집 완료 및 저장\n"
     ]
    },
    {
     "data": {
      "application/vnd.jupyter.widget-view+json": {
       "model_id": "46b8dc542ebd4e80b0c597b1d95e2cf8",
       "version_major": 2,
       "version_minor": 0
      },
      "text/plain": [
       "  0%|          | 0/366 [00:00<?, ?it/s]"
      ]
     },
     "metadata": {},
     "output_type": "display_data"
    },
    {
     "name": "stdout",
     "output_type": "stream",
     "text": [
      "LG생활건강 뉴스 수집 완료 및 저장\n"
     ]
    }
   ],
   "source": [
    "def main():\n",
    "    # 코스피 TOP 10 기업 리스트\n",
    "    kospi_top10 = [\n",
    "        '삼성전자', 'SK하이닉스', 'LG화학', '삼성바이오로직스', '현대차', \n",
    "        '셀트리온', 'NAVER', '카카오', '현대모비스', 'LG생활건강'\n",
    "    ]\n",
    "\n",
    "    for idx, company in enumerate(kospi_top10, start=1):\n",
    "        collect_year_news(searchWord=company, topN=idx)\n",
    "        print(f\"{company} 뉴스 수집 완료 및 저장\")\n",
    "\n",
    "if __name__ == \"__main__\":\n",
    "    main()"
   ]
  },
  {
   "cell_type": "code",
   "execution_count": 27,
   "id": "2bd021c8-5d5e-49f2-8213-b4785fccca18",
   "metadata": {},
   "outputs": [
    {
     "name": "stdout",
     "output_type": "stream",
     "text": [
      "Converted C:\\Users\\2-13\\Desktop\\DMF\\final\\naver\\Naver_News_List_1.pkl to C:\\Users\\2-13\\Desktop\\DMF\\final\\naver\\Naver_News_List_1.csv\n",
      "Converted C:\\Users\\2-13\\Desktop\\DMF\\final\\naver\\Naver_News_List_10.pkl to C:\\Users\\2-13\\Desktop\\DMF\\final\\naver\\Naver_News_List_10.csv\n",
      "Converted C:\\Users\\2-13\\Desktop\\DMF\\final\\naver\\Naver_News_List_2.pkl to C:\\Users\\2-13\\Desktop\\DMF\\final\\naver\\Naver_News_List_2.csv\n",
      "Converted C:\\Users\\2-13\\Desktop\\DMF\\final\\naver\\Naver_News_List_3.pkl to C:\\Users\\2-13\\Desktop\\DMF\\final\\naver\\Naver_News_List_3.csv\n",
      "Converted C:\\Users\\2-13\\Desktop\\DMF\\final\\naver\\Naver_News_List_4.pkl to C:\\Users\\2-13\\Desktop\\DMF\\final\\naver\\Naver_News_List_4.csv\n",
      "Converted C:\\Users\\2-13\\Desktop\\DMF\\final\\naver\\Naver_News_List_5.pkl to C:\\Users\\2-13\\Desktop\\DMF\\final\\naver\\Naver_News_List_5.csv\n",
      "Converted C:\\Users\\2-13\\Desktop\\DMF\\final\\naver\\Naver_News_List_6.pkl to C:\\Users\\2-13\\Desktop\\DMF\\final\\naver\\Naver_News_List_6.csv\n",
      "Converted C:\\Users\\2-13\\Desktop\\DMF\\final\\naver\\Naver_News_List_7.pkl to C:\\Users\\2-13\\Desktop\\DMF\\final\\naver\\Naver_News_List_7.csv\n",
      "Converted C:\\Users\\2-13\\Desktop\\DMF\\final\\naver\\Naver_News_List_8.pkl to C:\\Users\\2-13\\Desktop\\DMF\\final\\naver\\Naver_News_List_8.csv\n",
      "Converted C:\\Users\\2-13\\Desktop\\DMF\\final\\naver\\Naver_News_List_9.pkl to C:\\Users\\2-13\\Desktop\\DMF\\final\\naver\\Naver_News_List_9.csv\n"
     ]
    }
   ],
   "source": [
    "import os\n",
    "import pandas as pd\n",
    "\n",
    "def convert_pkl_to_csv(pkl_file, csv_file):\n",
    "    # pkl 파일 읽기\n",
    "    df = pd.read_pickle(pkl_file)\n",
    "    \n",
    "    # csv 파일로 저장\n",
    "    df.to_csv(csv_file, index=False, encoding='utf-8-sig')\n",
    "\n",
    "def convert_all_pkl_to_csv(directory):\n",
    "    for filename in os.listdir(directory):\n",
    "        if filename.endswith(\".pkl\"):\n",
    "            pkl_file = os.path.join(directory, filename)\n",
    "            csv_file = pkl_file.replace(\".pkl\", \".csv\")\n",
    "            convert_pkl_to_csv(pkl_file, csv_file)\n",
    "            print(f\"Converted {pkl_file} to {csv_file}\")\n",
    "\n",
    "# 현재 작업 경로의 모든 pkl 파일을 csv 파일로 변환\n",
    "convert_all_pkl_to_csv(os.getcwd())"
   ]
  },
  {
   "cell_type": "code",
   "execution_count": null,
   "id": "868738d9-afd6-4251-b9ea-077fcf00bd16",
   "metadata": {},
   "outputs": [],
   "source": []
  }
 ],
 "metadata": {
  "kernelspec": {
   "display_name": "Python 3 (ipykernel)",
   "language": "python",
   "name": "python3"
  },
  "language_info": {
   "codemirror_mode": {
    "name": "ipython",
    "version": 3
   },
   "file_extension": ".py",
   "mimetype": "text/x-python",
   "name": "python",
   "nbconvert_exporter": "python",
   "pygments_lexer": "ipython3",
   "version": "3.12.4"
  }
 },
 "nbformat": 4,
 "nbformat_minor": 5
}
