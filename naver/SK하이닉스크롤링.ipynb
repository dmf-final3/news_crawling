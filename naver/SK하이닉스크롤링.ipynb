{
 "cells": [
  {
   "cell_type": "code",
   "execution_count": 1,
   "id": "eb45efd3-aa36-4ec5-8cef-465179732588",
   "metadata": {},
   "outputs": [],
   "source": [
    "# 라이브러리 호출\n",
    "import requests\n",
    "import json\n",
    "from bs4 import BeautifulSoup as bts\n",
    "import pandas as pd\n",
    "import numpy as np\n",
    "import time\n",
    "from tqdm.notebook import tqdm\n",
    "import os"
   ]
  },
  {
   "cell_type": "code",
   "execution_count": 23,
   "id": "80eb59cd-d400-4b32-ae83-b419a39e89c0",
   "metadata": {},
   "outputs": [],
   "source": [
    "# 네이버뉴스 링크를 수집하고 데이터프레임으로 반환하는 함수 생성\n",
    "def NaverNewsLink(searchWord, startNo = 1):\n",
    "    \n",
    "    # HTTP 요청 실행\n",
    "    # 쿼리 문자열: 정렬(sort)-관련도순, 기간(pd)-전체\n",
    "    res = requests.get(\n",
    "        url = 'https://s.search.naver.com/p/newssearch/search.naver',         \n",
    "        params = {\n",
    "            'nqx_theme': {'theme':{'main':{'name':'sports_event'},'sub':[{'name':'issue'}]}},\n",
    "            'query': searchWord,\n",
    "            'sort': 2,\n",
    "            'spq': 3,\n",
    "            'pd': 5,\n",
    "            'start': startNo,\n",
    "            'where': 'news_tab_api',\n",
    "        }\n",
    "    )\n",
    "    \n",
    "    # JSON 형태의 문자열을 딕셔너리로 변환\n",
    "    dic = json.loads(s = res.text)\n",
    "    \n",
    "    # 딕셔너리의 각 원소를 bs4.BeautifulSoup 객체로 변환\n",
    "    # [주의] HTTP 응답 바디 문자열에 공백이 있으면 items의 원소로 추가되므로 삭제해야 함\n",
    "    items = [bts(markup = i.strip(), features = 'html.parser') for i in dic['contents']]\n",
    "    \n",
    "    # 뉴스 링크를 포함하는 HTML 요소를 원소로 갖는 links 생성\n",
    "    links = [item.select('a.info:last-child') for item in items]\n",
    "\n",
    "    # 기사 작성 일시를 포함하는 HTML 요소를 원소로 갖는 dates 생성\n",
    "    dates = [item.select('span.info')[0].text for item in items if len(item.select('span.info')) > 0]\n",
    "    \n",
    "    # 언론사, 제목 및 네이버뉴스 링크를 원소로 갖는 데이터프레임 생성\n",
    "    newsList = pd.DataFrame(data = {\n",
    "        'press': [item.select(selector = 'a.press')[0].text for item in items], \n",
    "        'title': [item.select(selector = 'a.news_tit')[0].text for item in items], \n",
    "        'nlink': [link[0]['href'] if len(link) >= 1 else np.nan for link in links],\n",
    "        'date': dates\n",
    "    })\n",
    "    \n",
    "    # 데이터프레임 반환\n",
    "    return newsList"
   ]
  },
  {
   "cell_type": "code",
   "execution_count": 24,
   "id": "536ecf2c-6c77-4f89-958c-8f2e2cfb81cf",
   "metadata": {},
   "outputs": [],
   "source": [
    "# 검색어 설정\n",
    "searchWord = 'SK하이닉스'"
   ]
  },
  {
   "cell_type": "code",
   "execution_count": 25,
   "id": "7e17ac9a-8e55-43b4-9f0e-1edcfed73f3e",
   "metadata": {},
   "outputs": [
    {
     "data": {
      "text/html": [
       "<div>\n",
       "<style scoped>\n",
       "    .dataframe tbody tr th:only-of-type {\n",
       "        vertical-align: middle;\n",
       "    }\n",
       "\n",
       "    .dataframe tbody tr th {\n",
       "        vertical-align: top;\n",
       "    }\n",
       "\n",
       "    .dataframe thead th {\n",
       "        text-align: right;\n",
       "    }\n",
       "</style>\n",
       "<table border=\"1\" class=\"dataframe\">\n",
       "  <thead>\n",
       "    <tr style=\"text-align: right;\">\n",
       "      <th></th>\n",
       "      <th>press</th>\n",
       "      <th>title</th>\n",
       "      <th>nlink</th>\n",
       "      <th>date</th>\n",
       "    </tr>\n",
       "  </thead>\n",
       "  <tbody>\n",
       "    <tr>\n",
       "      <th>0</th>\n",
       "      <td>핀포인트뉴스</td>\n",
       "      <td>[코스피] 외국인 순매수 TOP5 삼성전자·SK하이닉스·현대차·삼성전기·...</td>\n",
       "      <td>NaN</td>\n",
       "      <td>2023.10.18.</td>\n",
       "    </tr>\n",
       "    <tr>\n",
       "      <th>1</th>\n",
       "      <td>글로벌이코노믹</td>\n",
       "      <td>이란 최고지도자 하메네이 \"이스라엘 경고\"</td>\n",
       "      <td>NaN</td>\n",
       "      <td>2023.10.18.</td>\n",
       "    </tr>\n",
       "    <tr>\n",
       "      <th>2</th>\n",
       "      <td>포인트데일리</td>\n",
       "      <td>시스템반도체 관련주, '맑음' 하나마이크론·테크윙·한미반도체... '흐...</td>\n",
       "      <td>NaN</td>\n",
       "      <td>2023.10.18.</td>\n",
       "    </tr>\n",
       "    <tr>\n",
       "      <th>3</th>\n",
       "      <td>뉴스1</td>\n",
       "      <td>美, 대중국 반도체 수출통제 강화…저사양 AI칩도 포함(종합)</td>\n",
       "      <td>https://n.news.naver.com/mnews/article/421/000...</td>\n",
       "      <td>2023.10.18.</td>\n",
       "    </tr>\n",
       "    <tr>\n",
       "      <th>4</th>\n",
       "      <td>서울경제언론사 선정</td>\n",
       "      <td>SK하이닉스, 기옥시아·WD 합병 반대…소프트뱅크에 협력 타진</td>\n",
       "      <td>https://n.news.naver.com/mnews/article/011/000...</td>\n",
       "      <td>2023.10.18.</td>\n",
       "    </tr>\n",
       "    <tr>\n",
       "      <th>5</th>\n",
       "      <td>핀포인트뉴스</td>\n",
       "      <td>현대차·삼성전기 등 외국인 순매수 활발…기술력 지수 '저평가'</td>\n",
       "      <td>NaN</td>\n",
       "      <td>2023.10.18.</td>\n",
       "    </tr>\n",
       "    <tr>\n",
       "      <th>6</th>\n",
       "      <td>동아일보언론사 선정</td>\n",
       "      <td>美, 저사양 AI 반도체도 중국 수출 차단</td>\n",
       "      <td>https://n.news.naver.com/mnews/article/020/000...</td>\n",
       "      <td>2023.10.18.</td>\n",
       "    </tr>\n",
       "    <tr>\n",
       "      <th>7</th>\n",
       "      <td>핀포인트뉴스</td>\n",
       "      <td>비즈니스온·SK하이닉스 등 52주 최고가 근접…기술력 지수는?</td>\n",
       "      <td>NaN</td>\n",
       "      <td>2023.10.18.</td>\n",
       "    </tr>\n",
       "    <tr>\n",
       "      <th>8</th>\n",
       "      <td>뉴시스언론사 선정</td>\n",
       "      <td>반도체株 날개 달았다…7만전자 13만닉스 '훨훨'</td>\n",
       "      <td>https://n.news.naver.com/mnews/article/003/001...</td>\n",
       "      <td>2023.10.18.</td>\n",
       "    </tr>\n",
       "    <tr>\n",
       "      <th>9</th>\n",
       "      <td>컨슈머타임스</td>\n",
       "      <td>박덕수 인천시 행정부시장, 충칭시 부시장과 '교류 의지' 다져</td>\n",
       "      <td>NaN</td>\n",
       "      <td>2023.10.18.</td>\n",
       "    </tr>\n",
       "  </tbody>\n",
       "</table>\n",
       "</div>"
      ],
      "text/plain": [
       "        press                                         title  \\\n",
       "0      핀포인트뉴스  [코스피] 외국인 순매수 TOP5 삼성전자·SK하이닉스·현대차·삼성전기·...    \n",
       "1     글로벌이코노믹                      이란 최고지도자 하메네이 \"이스라엘 경고\"    \n",
       "2      포인트데일리   시스템반도체 관련주, '맑음' 하나마이크론·테크윙·한미반도체... '흐...    \n",
       "3         뉴스1           美, 대중국 반도체 수출통제 강화…저사양 AI칩도 포함(종합)    \n",
       "4  서울경제언론사 선정           SK하이닉스, 기옥시아·WD 합병 반대…소프트뱅크에 협력 타진    \n",
       "5      핀포인트뉴스           현대차·삼성전기 등 외국인 순매수 활발…기술력 지수 '저평가'    \n",
       "6  동아일보언론사 선정                      美, 저사양 AI 반도체도 중국 수출 차단    \n",
       "7      핀포인트뉴스           비즈니스온·SK하이닉스 등 52주 최고가 근접…기술력 지수는?    \n",
       "8   뉴시스언론사 선정                  반도체株 날개 달았다…7만전자 13만닉스 '훨훨'    \n",
       "9      컨슈머타임스           박덕수 인천시 행정부시장, 충칭시 부시장과 '교류 의지' 다져    \n",
       "\n",
       "                                               nlink         date  \n",
       "0                                                NaN  2023.10.18.  \n",
       "1                                                NaN  2023.10.18.  \n",
       "2                                                NaN  2023.10.18.  \n",
       "3  https://n.news.naver.com/mnews/article/421/000...  2023.10.18.  \n",
       "4  https://n.news.naver.com/mnews/article/011/000...  2023.10.18.  \n",
       "5                                                NaN  2023.10.18.  \n",
       "6  https://n.news.naver.com/mnews/article/020/000...  2023.10.18.  \n",
       "7                                                NaN  2023.10.18.  \n",
       "8  https://n.news.naver.com/mnews/article/003/001...  2023.10.18.  \n",
       "9                                                NaN  2023.10.18.  "
      ]
     },
     "execution_count": 25,
     "metadata": {},
     "output_type": "execute_result"
    }
   ],
   "source": [
    "# 함수 테스트\n",
    "NaverNewsLink(searchWord = searchWord)"
   ]
  },
  {
   "cell_type": "code",
   "execution_count": 26,
   "id": "76b27844-2de3-4f9c-8a03-bbf0ce145c71",
   "metadata": {},
   "outputs": [],
   "source": [
    "# 수집 건수 설정\n",
    "count = 2000"
   ]
  },
  {
   "cell_type": "code",
   "execution_count": 27,
   "id": "9b8fe06a-3baa-45f2-bc1f-18bf84f823a0",
   "metadata": {},
   "outputs": [
    {
     "data": {
      "application/vnd.jupyter.widget-view+json": {
       "model_id": "4f255c081dcb4eb6a75a99f636bdf394",
       "version_major": 2,
       "version_minor": 0
      },
      "text/plain": [
       "  0%|          | 0/200 [00:00<?, ?it/s]"
      ]
     },
     "metadata": {},
     "output_type": "display_data"
    }
   ],
   "source": [
    "# 최종 결과를 저장할 빈 데이터프레임 생성\n",
    "newsList = pd.DataFrame()\n",
    "\n",
    "# 반복문으로 관련 네이버뉴스 링크 수집\n",
    "for i in tqdm(range(1, count + 1, 10)):\n",
    "    \n",
    "    # 네이버뉴스 링크를 수집하고 df에 할당\n",
    "    df = NaverNewsLink(searchWord = searchWord, startNo = i)\n",
    "    \n",
    "    # 최종 결과에 df에 추가(행이름 삭제)\n",
    "    newsList = pd.concat(objs = [newsList, df], ignore_index = True)\n",
    "    \n",
    "    # 1초간 멈춤\n",
    "    time.sleep(1)"
   ]
  },
  {
   "cell_type": "code",
   "execution_count": 28,
   "id": "402ddbe6-32bf-42c2-aa0a-32fadbc103ce",
   "metadata": {},
   "outputs": [],
   "source": [
    "# nlink가 결측인 행 삭제\n",
    "newsList = newsList.loc[newsList['nlink'].notna(), :]"
   ]
  },
  {
   "cell_type": "code",
   "execution_count": 29,
   "id": "f7a1b0ad-e2bd-4bf6-8e50-8350eae8018d",
   "metadata": {},
   "outputs": [],
   "source": [
    "# press에서 '언론사 선정' 삭제\n",
    "newsList['press'] = newsList['press'].str.replace(pat = '언론사 선정', repl = '')"
   ]
  },
  {
   "cell_type": "code",
   "execution_count": 30,
   "id": "03e4116d-630f-4b7e-b869-d867e7e2e7fa",
   "metadata": {},
   "outputs": [
    {
     "data": {
      "text/plain": [
       "780"
      ]
     },
     "execution_count": 30,
     "metadata": {},
     "output_type": "execute_result"
    }
   ],
   "source": [
    "# newsList의 행 개수 확인\n",
    "newsList.shape[0]"
   ]
  },
  {
   "cell_type": "code",
   "execution_count": 31,
   "id": "65a27a8a-f845-4d65-9d4c-3acbf02dc7d0",
   "metadata": {},
   "outputs": [],
   "source": [
    "# nlink의 중복 여부(True/False)를 원소로 갖는 dups 생성\n",
    "# [참고] keep 매개변수에 'first'를 지정하면 첫 번째 중복 건은 False로 반환\n",
    "dups = newsList['nlink'].duplicated(keep = 'first')"
   ]
  },
  {
   "cell_type": "code",
   "execution_count": 32,
   "id": "34d8949a-858f-453a-9155-8b19f4e6627e",
   "metadata": {},
   "outputs": [],
   "source": [
    "# nlink가 중복인 행이 있으면 해당 행을 삭제\n",
    "newsList = newsList.loc[~dups, :]"
   ]
  },
  {
   "cell_type": "code",
   "execution_count": 33,
   "id": "7e7b8428-f6e9-4a6c-95ec-ce8b8a1c3eac",
   "metadata": {},
   "outputs": [
    {
     "data": {
      "text/plain": [
       "764"
      ]
     },
     "execution_count": 33,
     "metadata": {},
     "output_type": "execute_result"
    }
   ],
   "source": [
    "# newsList의 행 개수 확인\n",
    "newsList.shape[0]"
   ]
  },
  {
   "cell_type": "code",
   "execution_count": 34,
   "id": "58564520-4be5-42b1-a30b-3ce5d3832dbe",
   "metadata": {},
   "outputs": [],
   "source": [
    "# nlink에서 쿼리 문자열 삭제\n",
    "newsList['nlink'] = newsList['nlink'].str.replace(pat = r'(\\?.+)', repl = '', regex = True)"
   ]
  },
  {
   "cell_type": "code",
   "execution_count": 35,
   "id": "b8536f60-4aac-4234-8bd5-92d865974c0c",
   "metadata": {},
   "outputs": [],
   "source": [
    "# newsList의 행이름 초기화\n",
    "newsList = newsList.reset_index(drop = True)"
   ]
  },
  {
   "cell_type": "code",
   "execution_count": 36,
   "id": "23f7a534-59ab-4922-a286-6b34d71d8e15",
   "metadata": {},
   "outputs": [
    {
     "data": {
      "text/html": [
       "<div>\n",
       "<style scoped>\n",
       "    .dataframe tbody tr th:only-of-type {\n",
       "        vertical-align: middle;\n",
       "    }\n",
       "\n",
       "    .dataframe tbody tr th {\n",
       "        vertical-align: top;\n",
       "    }\n",
       "\n",
       "    .dataframe thead th {\n",
       "        text-align: right;\n",
       "    }\n",
       "</style>\n",
       "<table border=\"1\" class=\"dataframe\">\n",
       "  <thead>\n",
       "    <tr style=\"text-align: right;\">\n",
       "      <th></th>\n",
       "      <th>press</th>\n",
       "      <th>title</th>\n",
       "      <th>nlink</th>\n",
       "      <th>date</th>\n",
       "    </tr>\n",
       "  </thead>\n",
       "  <tbody>\n",
       "    <tr>\n",
       "      <th>759</th>\n",
       "      <td>연합뉴스</td>\n",
       "      <td>HBM 날개 단 SK하이닉스, 3분기 적자 줄였다…D램은 흑자전환(종합)</td>\n",
       "      <td>https://n.news.naver.com/mnews/article/001/001...</td>\n",
       "      <td>2023.10.26.</td>\n",
       "    </tr>\n",
       "    <tr>\n",
       "      <th>760</th>\n",
       "      <td>노컷뉴스</td>\n",
       "      <td>SK하이닉스, 3Q 영업손실 1.8조…적자 '1조' 줄였다</td>\n",
       "      <td>https://n.news.naver.com/mnews/article/079/000...</td>\n",
       "      <td>2023.10.26.</td>\n",
       "    </tr>\n",
       "    <tr>\n",
       "      <th>761</th>\n",
       "      <td>파이낸셜뉴스</td>\n",
       "      <td>[상보] SK하이닉스 D램 흑자전환... 적자폭 1兆 감소</td>\n",
       "      <td>https://n.news.naver.com/mnews/article/014/000...</td>\n",
       "      <td>2023.10.26.</td>\n",
       "    </tr>\n",
       "    <tr>\n",
       "      <th>762</th>\n",
       "      <td>서울신문</td>\n",
       "      <td>[속보] SK하이닉스 3분기 영업손실 1조 8000억원…D램은 흑자 전환</td>\n",
       "      <td>https://n.news.naver.com/mnews/article/081/000...</td>\n",
       "      <td>2023.10.26.</td>\n",
       "    </tr>\n",
       "    <tr>\n",
       "      <th>763</th>\n",
       "      <td>한국경제</td>\n",
       "      <td>SK하이닉스 D램 2분기 만에 흑자전환…3분기 영업손실 1.8조원</td>\n",
       "      <td>https://n.news.naver.com/mnews/article/015/000...</td>\n",
       "      <td>2023.10.26.</td>\n",
       "    </tr>\n",
       "  </tbody>\n",
       "</table>\n",
       "</div>"
      ],
      "text/plain": [
       "      press                                      title  \\\n",
       "759    연합뉴스  HBM 날개 단 SK하이닉스, 3분기 적자 줄였다…D램은 흑자전환(종합)    \n",
       "760    노컷뉴스          SK하이닉스, 3Q 영업손실 1.8조…적자 '1조' 줄였다    \n",
       "761  파이낸셜뉴스          [상보] SK하이닉스 D램 흑자전환... 적자폭 1兆 감소    \n",
       "762    서울신문  [속보] SK하이닉스 3분기 영업손실 1조 8000억원…D램은 흑자 전환    \n",
       "763    한국경제      SK하이닉스 D램 2분기 만에 흑자전환…3분기 영업손실 1.8조원    \n",
       "\n",
       "                                                 nlink         date  \n",
       "759  https://n.news.naver.com/mnews/article/001/001...  2023.10.26.  \n",
       "760  https://n.news.naver.com/mnews/article/079/000...  2023.10.26.  \n",
       "761  https://n.news.naver.com/mnews/article/014/000...  2023.10.26.  \n",
       "762  https://n.news.naver.com/mnews/article/081/000...  2023.10.26.  \n",
       "763  https://n.news.naver.com/mnews/article/015/000...  2023.10.26.  "
      ]
     },
     "execution_count": 36,
     "metadata": {},
     "output_type": "execute_result"
    }
   ],
   "source": [
    "# newsList의 처음 5행 확인\n",
    "newsList.tail()"
   ]
  },
  {
   "cell_type": "code",
   "execution_count": 37,
   "id": "1d62f527-c357-4642-b159-683818f0fd64",
   "metadata": {},
   "outputs": [
    {
     "data": {
      "text/plain": [
       "'C:\\\\Users\\\\2-13\\\\Desktop\\\\DMF\\\\final\\\\naver'"
      ]
     },
     "execution_count": 37,
     "metadata": {},
     "output_type": "execute_result"
    }
   ],
   "source": [
    "# 현재 작업 경로 확인\n",
    "os.getcwd()"
   ]
  },
  {
   "cell_type": "code",
   "execution_count": 38,
   "id": "c25abd5d-bdb8-4ea5-99d9-5715b1b2ca81",
   "metadata": {},
   "outputs": [],
   "source": [
    "# newsList를 pkl 파일로 저장\n",
    "pd.to_pickle(obj = newsList, filepath_or_buffer = 'Naver_News_List_2.pkl')"
   ]
  },
  {
   "cell_type": "code",
   "execution_count": 39,
   "id": "77e3ebc0-0d42-4483-ab56-9fef1dcf2b68",
   "metadata": {},
   "outputs": [
    {
     "data": {
      "text/plain": [
       "['.ipynb_checkpoints',\n",
       " 'crawling.py',\n",
       " 'data',\n",
       " 'Naver_News_List.pkl',\n",
       " 'Naver_News_List_2.pkl',\n",
       " 'naver_news_samsung.csv',\n",
       " 'SK하이닉스크롤링.ipynb',\n",
       " 'Untitled1.ipynb',\n",
       " '삼전 크롤링 step2.ipynb',\n",
       " '삼전크롤링.ipynb']"
      ]
     },
     "execution_count": 39,
     "metadata": {},
     "output_type": "execute_result"
    }
   ],
   "source": [
    "# 현재 작업 경로에 있는 폴더명과 파일명 확인\n",
    "os.listdir()"
   ]
  },
  {
   "cell_type": "markdown",
   "id": "b094d452-313e-4371-8965-6d9ffca354f7",
   "metadata": {},
   "source": [
    "## end of document"
   ]
  },
  {
   "cell_type": "code",
   "execution_count": null,
   "id": "7f86f0a1-09e5-4166-82d7-aa1d9cc8f665",
   "metadata": {},
   "outputs": [],
   "source": []
  }
 ],
 "metadata": {
  "kernelspec": {
   "display_name": "Python 3 (ipykernel)",
   "language": "python",
   "name": "python3"
  },
  "language_info": {
   "codemirror_mode": {
    "name": "ipython",
    "version": 3
   },
   "file_extension": ".py",
   "mimetype": "text/x-python",
   "name": "python",
   "nbconvert_exporter": "python",
   "pygments_lexer": "ipython3",
   "version": "3.12.4"
  }
 },
 "nbformat": 4,
 "nbformat_minor": 5
}
