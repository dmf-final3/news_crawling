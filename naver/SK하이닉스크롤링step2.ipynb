{
 "cells": [
  {
   "cell_type": "code",
   "execution_count": 1,
   "id": "7d3050f1-3627-4bfe-ab61-64d3024457e0",
   "metadata": {},
   "outputs": [],
   "source": [
    "# 라이브러리 호출\n",
    "import os\n",
    "import pandas as pd\n",
    "import numpy as np\n",
    "import requests\n",
    "from bs4 import BeautifulSoup as bts\n",
    "import json\n",
    "import re\n",
    "import time\n",
    "from tqdm.notebook import tqdm"
   ]
  },
  {
   "cell_type": "code",
   "execution_count": 2,
   "id": "48484e2f-e457-42b9-b94c-e91d37b8d660",
   "metadata": {},
   "outputs": [
    {
     "data": {
      "text/plain": [
       "'C:\\\\Users\\\\2-13\\\\Desktop\\\\DMF\\\\final\\\\naver'"
      ]
     },
     "execution_count": 2,
     "metadata": {},
     "output_type": "execute_result"
    }
   ],
   "source": [
    "# 현재 작업 경로 확인\n",
    "os.getcwd()"
   ]
  },
  {
   "cell_type": "code",
   "execution_count": 3,
   "id": "5b32d38b-0fdd-4ddb-8806-7e8fab26c188",
   "metadata": {},
   "outputs": [
    {
     "data": {
      "text/plain": [
       "['.ipynb_checkpoints',\n",
       " 'crawling.py',\n",
       " 'data',\n",
       " 'Naver_News_List.pkl',\n",
       " 'Naver_News_List_2.pkl',\n",
       " 'naver_news_samsung.csv',\n",
       " 'SK하이닉스크롤링.ipynb',\n",
       " 'SK하이닉스크롤링step2.ipynb',\n",
       " '삼전 크롤링 step2.ipynb',\n",
       " '삼전크롤링.ipynb']"
      ]
     },
     "execution_count": 3,
     "metadata": {},
     "output_type": "execute_result"
    }
   ],
   "source": [
    "# 현재 작업 경로에 있는 폴더명과 파일명 확인\n",
    "os.listdir()"
   ]
  },
  {
   "cell_type": "code",
   "execution_count": 4,
   "id": "01e16c4a-cdea-4233-8a6b-8885fbbd3240",
   "metadata": {},
   "outputs": [],
   "source": [
    "# pkl 파일을 읽고 newsList 생성\n",
    "newsList = pd.read_pickle(filepath_or_buffer = 'Naver_News_List_2.pkl')"
   ]
  },
  {
   "cell_type": "code",
   "execution_count": 5,
   "id": "c00f8ddc-4446-4269-bcc8-dea9d927d96c",
   "metadata": {},
   "outputs": [
    {
     "data": {
      "text/html": [
       "<div>\n",
       "<style scoped>\n",
       "    .dataframe tbody tr th:only-of-type {\n",
       "        vertical-align: middle;\n",
       "    }\n",
       "\n",
       "    .dataframe tbody tr th {\n",
       "        vertical-align: top;\n",
       "    }\n",
       "\n",
       "    .dataframe thead th {\n",
       "        text-align: right;\n",
       "    }\n",
       "</style>\n",
       "<table border=\"1\" class=\"dataframe\">\n",
       "  <thead>\n",
       "    <tr style=\"text-align: right;\">\n",
       "      <th></th>\n",
       "      <th>press</th>\n",
       "      <th>title</th>\n",
       "      <th>nlink</th>\n",
       "      <th>date</th>\n",
       "    </tr>\n",
       "  </thead>\n",
       "  <tbody>\n",
       "    <tr>\n",
       "      <th>759</th>\n",
       "      <td>연합뉴스</td>\n",
       "      <td>HBM 날개 단 SK하이닉스, 3분기 적자 줄였다…D램은 흑자전환(종합)</td>\n",
       "      <td>https://n.news.naver.com/mnews/article/001/001...</td>\n",
       "      <td>2023.10.26.</td>\n",
       "    </tr>\n",
       "    <tr>\n",
       "      <th>760</th>\n",
       "      <td>노컷뉴스</td>\n",
       "      <td>SK하이닉스, 3Q 영업손실 1.8조…적자 '1조' 줄였다</td>\n",
       "      <td>https://n.news.naver.com/mnews/article/079/000...</td>\n",
       "      <td>2023.10.26.</td>\n",
       "    </tr>\n",
       "    <tr>\n",
       "      <th>761</th>\n",
       "      <td>파이낸셜뉴스</td>\n",
       "      <td>[상보] SK하이닉스 D램 흑자전환... 적자폭 1兆 감소</td>\n",
       "      <td>https://n.news.naver.com/mnews/article/014/000...</td>\n",
       "      <td>2023.10.26.</td>\n",
       "    </tr>\n",
       "    <tr>\n",
       "      <th>762</th>\n",
       "      <td>서울신문</td>\n",
       "      <td>[속보] SK하이닉스 3분기 영업손실 1조 8000억원…D램은 흑자 전환</td>\n",
       "      <td>https://n.news.naver.com/mnews/article/081/000...</td>\n",
       "      <td>2023.10.26.</td>\n",
       "    </tr>\n",
       "    <tr>\n",
       "      <th>763</th>\n",
       "      <td>한국경제</td>\n",
       "      <td>SK하이닉스 D램 2분기 만에 흑자전환…3분기 영업손실 1.8조원</td>\n",
       "      <td>https://n.news.naver.com/mnews/article/015/000...</td>\n",
       "      <td>2023.10.26.</td>\n",
       "    </tr>\n",
       "  </tbody>\n",
       "</table>\n",
       "</div>"
      ],
      "text/plain": [
       "      press                                      title  \\\n",
       "759    연합뉴스  HBM 날개 단 SK하이닉스, 3분기 적자 줄였다…D램은 흑자전환(종합)    \n",
       "760    노컷뉴스          SK하이닉스, 3Q 영업손실 1.8조…적자 '1조' 줄였다    \n",
       "761  파이낸셜뉴스          [상보] SK하이닉스 D램 흑자전환... 적자폭 1兆 감소    \n",
       "762    서울신문  [속보] SK하이닉스 3분기 영업손실 1조 8000억원…D램은 흑자 전환    \n",
       "763    한국경제      SK하이닉스 D램 2분기 만에 흑자전환…3분기 영업손실 1.8조원    \n",
       "\n",
       "                                                 nlink         date  \n",
       "759  https://n.news.naver.com/mnews/article/001/001...  2023.10.26.  \n",
       "760  https://n.news.naver.com/mnews/article/079/000...  2023.10.26.  \n",
       "761  https://n.news.naver.com/mnews/article/014/000...  2023.10.26.  \n",
       "762  https://n.news.naver.com/mnews/article/081/000...  2023.10.26.  \n",
       "763  https://n.news.naver.com/mnews/article/015/000...  2023.10.26.  "
      ]
     },
     "execution_count": 5,
     "metadata": {},
     "output_type": "execute_result"
    }
   ],
   "source": [
    "# newsList의 처음 5행 확인\n",
    "newsList.tail()"
   ]
  },
  {
   "cell_type": "code",
   "execution_count": 6,
   "id": "e8e06dba-923f-431c-8019-0c9e8771b68d",
   "metadata": {},
   "outputs": [
    {
     "name": "stdout",
     "output_type": "stream",
     "text": [
      "<class 'pandas.core.frame.DataFrame'>\n",
      "RangeIndex: 764 entries, 0 to 763\n",
      "Data columns (total 4 columns):\n",
      " #   Column  Non-Null Count  Dtype \n",
      "---  ------  --------------  ----- \n",
      " 0   press   764 non-null    object\n",
      " 1   title   764 non-null    object\n",
      " 2   nlink   764 non-null    object\n",
      " 3   date    764 non-null    object\n",
      "dtypes: object(4)\n",
      "memory usage: 24.0+ KB\n"
     ]
    }
   ],
   "source": [
    "# newsList의 정보 확인\n",
    "newsList.info()"
   ]
  },
  {
   "cell_type": "code",
   "execution_count": 7,
   "id": "510ec17a-16f0-477b-8f56-41f68fdb1a1e",
   "metadata": {},
   "outputs": [],
   "source": [
    "# 네이버뉴스 링크로 HTTP 요청을 실행하고 뉴스 본문을 반환하는 함수 생성\n",
    "def NaverNewsBody(nlink):\n",
    "    \n",
    "    # nlink에 따라 HTTP 요청 실행 및 응답 바디 문자열 처리 코드 분기\n",
    "    if 'https://n.news' in nlink:\n",
    "        \n",
    "        # 네이버뉴스 링크로 HTTP 요청 실행\n",
    "        res = requests.get(url = nlink)\n",
    "        \n",
    "        # HTTP 응답 바디 문자열을 bs4.BeautifulSoup 객체로 변환\n",
    "        soup = bts(markup = res.text, features = 'html.parser')\n",
    "        \n",
    "        # soup에서 뉴스 본문을 포함하는 HTML 요소 선택\n",
    "        item = soup.select_one(selector = '#dic_area, div._article_content')\n",
    "        \n",
    "        # item의 텍스트 반환\n",
    "        # [참고] strip()은 문자열 양 옆에 있는 공백을 모두 제거함\n",
    "        return item.text.strip()\n",
    "    \n",
    "    elif 'https://m' in nlink:\n",
    "        \n",
    "        # 'https://m'으로 시작하는 nlink의 일부 문자열 변경한 url 생성\n",
    "        url = re.sub(pattern = 'https://m.(sports|entertain).naver.com(.+)?(?=/article)', \n",
    "                     repl = r'https://api-gw.\\1.naver.com/news', \n",
    "                     string = newsList['nlink'].iloc[i])\n",
    "        \n",
    "        # url로 HTTP 요청 실행\n",
    "        res = requests.get(url = url)\n",
    "        \n",
    "        # JSON 형태의 문자열을 딕셔너리로 변환\n",
    "        dic = json.loads(s = res.text)\n",
    "        \n",
    "        # 뉴스 본문 반환\n",
    "        return dic['result']['articleInfo']['article']['content']"
   ]
  },
  {
   "cell_type": "code",
   "execution_count": 8,
   "id": "562a02c1-4011-4660-aee6-e04f28e0cb3b",
   "metadata": {},
   "outputs": [],
   "source": [
    "# 인덱스 설정: 첫 번째 원소\n",
    "# [참고] 반복문으로 실행할 코드에 인덱스를 추가하면 편리함\n",
    "i = 0"
   ]
  },
  {
   "cell_type": "code",
   "execution_count": 9,
   "id": "023994f5-4d0a-4338-a3e5-124cbe5d039e",
   "metadata": {},
   "outputs": [
    {
     "name": "stdout",
     "output_type": "stream",
     "text": [
      "https://n.news.naver.com/mnews/article/421/0007116233\n"
     ]
    }
   ],
   "source": [
    "# 해당 인덱스의 nlink 확인\n",
    "print(newsList['nlink'].iloc[i])"
   ]
  },
  {
   "cell_type": "code",
   "execution_count": 10,
   "id": "864f65e7-4847-4e68-bb41-74f03a0f74e6",
   "metadata": {},
   "outputs": [
    {
     "data": {
      "text/plain": [
       "'기존 속도 기준에 \\'성능밀도\\' 추가…엔비디아 저사양 AI칩 목표제3국 우회한 중국으로 반도체 유입 막기 위해 수출통제 대상국 확대\\n\\n\\n\\n지나 러몬도 미국 상무장관. 2023.8.30 ⓒ AFP=뉴스1 ⓒ News1 우동명 기자(워싱턴·서울=뉴스1) 강민경 기자 김현 특파원 = 미국 정부가 인공지능(AI) 반도체의 대중국 수출 통제를 강화한다. 이전 대중국 수출통제 조치 때보다 사양이 낮은 인공지능(AI) 칩에 대해서도 수출을 추가 금지한다. 또한 중국의 제재 우회를 막기 위해 마카오에 본사가 있거나, 미국의 무기금수 조치 대상인 회사로 반도체 장비 등을 수출하는 것도 통제된다.로이터통신과 뉴욕타임스(NYT) 등 외신들에 따르면 상무부는 17일(현지시간) 이같은 내용이 포함된 대중국 반도체 수출통제 조치를 추가로 발표했다.앞서 상무부는 지난해 10월 고성능 AI 학습용칩, 슈퍼컴퓨터용 특정 반도체 등을 포함한 첨단 컴퓨팅 반도체칩, 슈퍼컴퓨터용 반도체칩 거래 등에 대해 수출제한 조치를 부과한 바 있다.  미국 정부는 중국이 이같은 첨단 반도체에 접근할 경우 중국군의 극초음속 미사일 개발, 첨단 정찰 시스템 구축, 미국의 극비암호 해독 등에 사용돼 미국의 국가안보를 위협할 수 있기 때문에 이같은 수출통제를 부과한다고 설명했다.    그러나 엔비디아 등 일부 반도체 기업들이 기존 수출통제 조치에 포함되지 않은 저사양 반도체칩을 중국에 공급했지만, 저사양 반도체칩도 AI와 슈퍼컴퓨팅에 사용될 수 있다는 지적이 제기되면서 \\'국가안보 위험\\'을 이유로 저사양 AI칩 등에 대해 추가 수출제한 조치를 가한 것이다. 이를 위해 상무부는 새로운 규칙에 기존 속도에 더해 AI칩에 대한 \\'성능밀도\\' 기준을 추가했다. 우선 300테라플롭스(teraflops·초당 1조 회의 연산 처리) 이상의 속도로 작동할 수 있는 데이터센터 칩을 중국에 판매하는 것을 금지한다. 또한 150~300테라플롭스의 속도를 가진 반도체 칩은 성능 밀도가 평방밀리미터(mm²)당 370기가플롭스(gigaflops·초당 10억 회 연산) 이상의 경우에도 판매가 금지된다. 이같은 속도로 작동하지만 성능 밀도가 낮은 반도체칩은 \\'회색 지대\\'에 속하며, 기업들은 중국 판매에 대해 정부에 통지해야 한다.  이에 따라 엔비디아의 저사양 AI칩인 A800과 H800의 수출이 통제될 전망이다. 이 칩은 엔비디아가 대중 수출 통제를 피하기 위해 기존 A100칩보다 성능을 낮춘 것이다.미국의 한 고위당국자는 전날(16일) 진행한 브리핑에서 이번 추가 조치는 지난해 10월 수출통제 조치 이후 중국에 수출하기 위해 만든 엔비디아의 A800과 H800칩이 목표가 될 것이라고 밝혔다. 이번 추가 조치는 또 다른 미국 반도체 기업인 \\'인텔\\'이 중국 맞춤형으로 내놓은 AI칩 가우디2에도 영향을 미칠 것으로 예상된다.  상무부는 또 모기업이 중국이나 마카오, 미국의 무기 금수 대상 국가에 소재한 업체에 대해선 소재와 상관없이 반도체 수출을 금지한다. 상무부는 미국의 무기금수 국가에 반도체 장비를 판매하기 위해서는 별도의 허가를 받도록 했다. 무기금수 대상 국가는 아프가니스탄, 아르메니아, 아제르바이잔 등 21개국이다.또한 상무부는 중국으로 재수출될 위험이 큰 40여개 국가로 수출할 때 추가로 라이선스를 받을 것을 요구하기로 했다. 이는 미국의 첨단 반도체칩이 제3국을 거쳐 중국으로 이동하는 위험을 차단하기 위한 것이다. 이와 함께 미 상무부는 중국의 반도체 설계 기업인 \\'무어 쓰레드 인텔리전트 테크놀로지\\' 및 \\'상하이 비렌 인텔리전트 테크놀로지\\'와 그 자회사들을 블랙리스트(거래 제한 명단)에 올렸다. 이 두 기업은 엔비디아의 잠재적인 경쟁업체라고 블룸버그 통신이 전했다. 지나 러몬도 상무장관은 이날 추가된 대중국 수출통제 조치는 지난해 10월 발표된 규제들의 허점을 보완함으로써 중국의 군사발전을 제한하기 위한 것이라고 설명했다. 지나 러몬도 상무장관은 이번 추가 조치의 목표는 중국군에 중요한 \"AI와 정교한 컴퓨터의 혁신의 촉진할 수 있는\" 첨단 반도체에 대한 중국의 접근을 억제하는 것이라고 밝혔다. 그는 수출통제 조치가 \"적어도 매년\" 갱신될 것이라면서도 미국은 필요 이상의 규제를 원하지 않는다면서 이번 조치가 경제적으로 중국을 해치려는 것은 아니다라고 강조했다.  미 상무부는 새로운 규칙들은 스마트폰과 노트북, 전기차, 게임 시스템과 같이 순수하게 상업용으로 사용되는 반도체칩에 대해선 적용되지 않는다고 밝혔다. 미국 정부의 추가 규제에 대해 반도체 업계는 우려를 표명하고 있다. 반도체산업협회(SIA)는 성명에서 \"지나치게 광범위하고 일방적인 통제는 해외 고객이 미국 기업 외 다른 곳으로 눈을 돌리게 만들어 국가 안보는 향상시키지 못한 채 미국 반도체 생태계에만 해를 끼칠 수 있다\"고 우려했다.다만 이번 조치가 한국 기업에 미치는 영향은 미미할 것이라는 게 정부의 판단이다. 삼성전자와 SK하이닉스는 최근 미국 정부에 의해 \\'검증된 최종 사용자(VEU)\\'로 지정돼 미국 반도체 장비의 중국 내 공장 반입에 관련해 무기한 제재가 유예된 상태다. 현재 AI칩을 생산하고 있는 한국 기업은 없다.'"
      ]
     },
     "execution_count": 10,
     "metadata": {},
     "output_type": "execute_result"
    }
   ],
   "source": [
    "# 함수 테스트\n",
    "NaverNewsBody(nlink = newsList['nlink'].iloc[i])"
   ]
  },
  {
   "cell_type": "code",
   "execution_count": 11,
   "id": "b04fc9f1-63bf-49f5-9eac-c8203dcf7277",
   "metadata": {},
   "outputs": [],
   "source": [
    "# 경고를 출력하지 않도록 설정\n",
    "import warnings\n",
    "warnings.filterwarnings('ignore')"
   ]
  },
  {
   "cell_type": "code",
   "execution_count": 12,
   "id": "8582bc2b-0b4e-435e-9c36-b427254a5caa",
   "metadata": {},
   "outputs": [
    {
     "name": "stdout",
     "output_type": "stream",
     "text": [
      "764\n"
     ]
    }
   ],
   "source": [
    "# 반복 실행할 횟수 생성\n",
    "n = len(newsList)\n",
    "print(n)"
   ]
  },
  {
   "cell_type": "code",
   "execution_count": 13,
   "id": "0e9a4dbe-6b2f-4fe9-a89e-d4cfcd702d72",
   "metadata": {},
   "outputs": [
    {
     "data": {
      "application/vnd.jupyter.widget-view+json": {
       "model_id": "9d3e2bd06e574148ae1be59574a4f41e",
       "version_major": 2,
       "version_minor": 0
      },
      "text/plain": [
       "  0%|          | 0/764 [00:00<?, ?it/s]"
      ]
     },
     "metadata": {},
     "output_type": "display_data"
    }
   ],
   "source": [
    "# newsList에 뉴스 본문을 저장할 열 추가\n",
    "newsList['body'] = np.nan\n",
    "\n",
    "# 반복문으로 네이버뉴스 본문 수집\n",
    "for i in tqdm(range(n)):\n",
    "    \n",
    "    # 네이버뉴스 링크로 뉴스 본문 수집\n",
    "    newsList['body'].iloc[i] = NaverNewsBody(nlink = newsList['nlink'].iloc[i])\n",
    "    \n",
    "    # 1초간 멈춤\n",
    "    time.sleep(1)"
   ]
  },
  {
   "cell_type": "code",
   "execution_count": 14,
   "id": "2a2d2b6b-5dc7-44a4-b876-78648e820eb1",
   "metadata": {},
   "outputs": [
    {
     "data": {
      "text/html": [
       "<div>\n",
       "<style scoped>\n",
       "    .dataframe tbody tr th:only-of-type {\n",
       "        vertical-align: middle;\n",
       "    }\n",
       "\n",
       "    .dataframe tbody tr th {\n",
       "        vertical-align: top;\n",
       "    }\n",
       "\n",
       "    .dataframe thead th {\n",
       "        text-align: right;\n",
       "    }\n",
       "</style>\n",
       "<table border=\"1\" class=\"dataframe\">\n",
       "  <thead>\n",
       "    <tr style=\"text-align: right;\">\n",
       "      <th></th>\n",
       "      <th>press</th>\n",
       "      <th>title</th>\n",
       "      <th>nlink</th>\n",
       "      <th>date</th>\n",
       "      <th>body</th>\n",
       "    </tr>\n",
       "  </thead>\n",
       "  <tbody>\n",
       "    <tr>\n",
       "      <th>759</th>\n",
       "      <td>연합뉴스</td>\n",
       "      <td>HBM 날개 단 SK하이닉스, 3분기 적자 줄였다…D램은 흑자전환(종합)</td>\n",
       "      <td>https://n.news.naver.com/mnews/article/001/001...</td>\n",
       "      <td>2023.10.26.</td>\n",
       "      <td>3분기 영업손실 1조8천억원…매출은 전 분기 대비 24% 증가HBM, DDR5, L...</td>\n",
       "    </tr>\n",
       "    <tr>\n",
       "      <th>760</th>\n",
       "      <td>노컷뉴스</td>\n",
       "      <td>SK하이닉스, 3Q 영업손실 1.8조…적자 '1조' 줄였다</td>\n",
       "      <td>https://n.news.naver.com/mnews/article/079/000...</td>\n",
       "      <td>2023.10.26.</td>\n",
       "      <td>D램 흑자 전환 영향…HBM 등 주력제품 투자 확대\\n\\n\\n\\n연합뉴스SK하이닉스...</td>\n",
       "    </tr>\n",
       "    <tr>\n",
       "      <th>761</th>\n",
       "      <td>파이낸셜뉴스</td>\n",
       "      <td>[상보] SK하이닉스 D램 흑자전환... 적자폭 1兆 감소</td>\n",
       "      <td>https://n.news.naver.com/mnews/article/014/000...</td>\n",
       "      <td>2023.10.26.</td>\n",
       "      <td>경기도 이천시 SK하이닉스 본사. 뉴시스 [파이낸셜뉴스] 반도체 불황 장기화 속에서...</td>\n",
       "    </tr>\n",
       "    <tr>\n",
       "      <th>762</th>\n",
       "      <td>서울신문</td>\n",
       "      <td>[속보] SK하이닉스 3분기 영업손실 1조 8000억원…D램은 흑자 전환</td>\n",
       "      <td>https://n.news.naver.com/mnews/article/081/000...</td>\n",
       "      <td>2023.10.26.</td>\n",
       "      <td>SK하이닉스가 올해 3분기 영업손실을 1조 8000억원 규모로 줄였다. 고대역폭 메...</td>\n",
       "    </tr>\n",
       "    <tr>\n",
       "      <th>763</th>\n",
       "      <td>한국경제</td>\n",
       "      <td>SK하이닉스 D램 2분기 만에 흑자전환…3분기 영업손실 1.8조원</td>\n",
       "      <td>https://n.news.naver.com/mnews/article/015/000...</td>\n",
       "      <td>2023.10.26.</td>\n",
       "      <td>SK하이닉스가 올 3분기 1조8000억원에 가까운 영업적자를 기록했다. 아직 적자의...</td>\n",
       "    </tr>\n",
       "  </tbody>\n",
       "</table>\n",
       "</div>"
      ],
      "text/plain": [
       "      press                                      title  \\\n",
       "759    연합뉴스  HBM 날개 단 SK하이닉스, 3분기 적자 줄였다…D램은 흑자전환(종합)    \n",
       "760    노컷뉴스          SK하이닉스, 3Q 영업손실 1.8조…적자 '1조' 줄였다    \n",
       "761  파이낸셜뉴스          [상보] SK하이닉스 D램 흑자전환... 적자폭 1兆 감소    \n",
       "762    서울신문  [속보] SK하이닉스 3분기 영업손실 1조 8000억원…D램은 흑자 전환    \n",
       "763    한국경제      SK하이닉스 D램 2분기 만에 흑자전환…3분기 영업손실 1.8조원    \n",
       "\n",
       "                                                 nlink         date  \\\n",
       "759  https://n.news.naver.com/mnews/article/001/001...  2023.10.26.   \n",
       "760  https://n.news.naver.com/mnews/article/079/000...  2023.10.26.   \n",
       "761  https://n.news.naver.com/mnews/article/014/000...  2023.10.26.   \n",
       "762  https://n.news.naver.com/mnews/article/081/000...  2023.10.26.   \n",
       "763  https://n.news.naver.com/mnews/article/015/000...  2023.10.26.   \n",
       "\n",
       "                                                  body  \n",
       "759  3분기 영업손실 1조8천억원…매출은 전 분기 대비 24% 증가HBM, DDR5, L...  \n",
       "760  D램 흑자 전환 영향…HBM 등 주력제품 투자 확대\\n\\n\\n\\n연합뉴스SK하이닉스...  \n",
       "761  경기도 이천시 SK하이닉스 본사. 뉴시스 [파이낸셜뉴스] 반도체 불황 장기화 속에서...  \n",
       "762  SK하이닉스가 올해 3분기 영업손실을 1조 8000억원 규모로 줄였다. 고대역폭 메...  \n",
       "763  SK하이닉스가 올 3분기 1조8000억원에 가까운 영업적자를 기록했다. 아직 적자의...  "
      ]
     },
     "execution_count": 14,
     "metadata": {},
     "output_type": "execute_result"
    }
   ],
   "source": [
    "# newsList의 처음 5행 확인\n",
    "newsList.tail()"
   ]
  },
  {
   "cell_type": "code",
   "execution_count": 16,
   "id": "25c52536-abbe-4e23-b2ed-987c22563c9a",
   "metadata": {},
   "outputs": [],
   "source": [
    "# 결과를 CSV 파일로 저장\n",
    "newsList.to_csv('naver_news_hinix.csv', index=False, encoding='utf-8-sig')"
   ]
  },
  {
   "cell_type": "code",
   "execution_count": null,
   "id": "3fa63cfd-a98c-4e63-9098-0224171ad928",
   "metadata": {},
   "outputs": [],
   "source": []
  }
 ],
 "metadata": {
  "kernelspec": {
   "display_name": "Python 3 (ipykernel)",
   "language": "python",
   "name": "python3"
  },
  "language_info": {
   "codemirror_mode": {
    "name": "ipython",
    "version": 3
   },
   "file_extension": ".py",
   "mimetype": "text/x-python",
   "name": "python",
   "nbconvert_exporter": "python",
   "pygments_lexer": "ipython3",
   "version": "3.12.4"
  }
 },
 "nbformat": 4,
 "nbformat_minor": 5
}
