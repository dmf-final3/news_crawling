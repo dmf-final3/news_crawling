{
 "cells": [
  {
   "cell_type": "code",
   "execution_count": 1,
   "id": "666fe910-71d1-4d33-95b6-67e5dad95742",
   "metadata": {},
   "outputs": [],
   "source": [
    "# 라이브러리 호출\n",
    "import os\n",
    "import pandas as pd\n",
    "import numpy as np\n",
    "import requests\n",
    "from bs4 import BeautifulSoup as bts\n",
    "import json\n",
    "import re\n",
    "import time\n",
    "from tqdm.notebook import tqdm"
   ]
  },
  {
   "cell_type": "code",
   "execution_count": 2,
   "id": "9dd5e85e-0bac-4f30-a45a-b5989dd973b2",
   "metadata": {},
   "outputs": [
    {
     "data": {
      "text/plain": [
       "'C:\\\\Users\\\\2-13\\\\Desktop\\\\DMF\\\\final\\\\naver'"
      ]
     },
     "execution_count": 2,
     "metadata": {},
     "output_type": "execute_result"
    }
   ],
   "source": [
    "# 현재 작업 경로 확인\n",
    "os.getcwd()"
   ]
  },
  {
   "cell_type": "code",
   "execution_count": 3,
   "id": "010ff7a8-5f0b-4cc0-b3a2-98a5eae421ae",
   "metadata": {},
   "outputs": [
    {
     "data": {
      "text/plain": [
       "['.ipynb_checkpoints',\n",
       " 'crawling.py',\n",
       " 'data',\n",
       " 'Naver_News_List.pkl',\n",
       " 'naver_news_samsung.csv',\n",
       " '삼전 크롤링 step2.ipynb',\n",
       " '삼전크롤링.ipynb']"
      ]
     },
     "execution_count": 3,
     "metadata": {},
     "output_type": "execute_result"
    }
   ],
   "source": [
    "# 현재 작업 경로에 있는 폴더명과 파일명 확인\n",
    "os.listdir()"
   ]
  },
  {
   "cell_type": "code",
   "execution_count": 4,
   "id": "f7aee490-816f-466d-9284-6eedc4901a90",
   "metadata": {},
   "outputs": [],
   "source": [
    "# pkl 파일을 읽고 newsList 생성\n",
    "newsList = pd.read_pickle(filepath_or_buffer = 'Naver_News_List.pkl')"
   ]
  },
  {
   "cell_type": "code",
   "execution_count": 5,
   "id": "8d0f2e08-e9c0-4497-b9bc-16ae80ba2c32",
   "metadata": {},
   "outputs": [
    {
     "data": {
      "text/html": [
       "<div>\n",
       "<style scoped>\n",
       "    .dataframe tbody tr th:only-of-type {\n",
       "        vertical-align: middle;\n",
       "    }\n",
       "\n",
       "    .dataframe tbody tr th {\n",
       "        vertical-align: top;\n",
       "    }\n",
       "\n",
       "    .dataframe thead th {\n",
       "        text-align: right;\n",
       "    }\n",
       "</style>\n",
       "<table border=\"1\" class=\"dataframe\">\n",
       "  <thead>\n",
       "    <tr style=\"text-align: right;\">\n",
       "      <th></th>\n",
       "      <th>press</th>\n",
       "      <th>title</th>\n",
       "      <th>nlink</th>\n",
       "      <th>date</th>\n",
       "    </tr>\n",
       "  </thead>\n",
       "  <tbody>\n",
       "    <tr>\n",
       "      <th>3652</th>\n",
       "      <td>한국경제TV</td>\n",
       "      <td>삼성전자, 저전력 특화 '24Gb GDDR7 D램' 개발</td>\n",
       "      <td>https://n.news.naver.com/mnews/article/215/000...</td>\n",
       "      <td>2시간 전</td>\n",
       "    </tr>\n",
       "    <tr>\n",
       "      <th>3653</th>\n",
       "      <td>지디넷코리아</td>\n",
       "      <td>삼성전자, 28일 갤럭시북5 프로 360 국내 출시</td>\n",
       "      <td>https://n.news.naver.com/mnews/article/092/000...</td>\n",
       "      <td>1일 전</td>\n",
       "    </tr>\n",
       "    <tr>\n",
       "      <th>3654</th>\n",
       "      <td>노컷뉴스</td>\n",
       "      <td>삼성전자, AI PC '갤럭시 북5 프로 360' 28일 국내 출시</td>\n",
       "      <td>https://n.news.naver.com/mnews/article/079/000...</td>\n",
       "      <td>1일 전</td>\n",
       "    </tr>\n",
       "    <tr>\n",
       "      <th>3655</th>\n",
       "      <td>뉴시스</td>\n",
       "      <td>삼성전자·SK하이닉스 강세…\"TSMC 실적 촉각\"[핫스탁]</td>\n",
       "      <td>https://n.news.naver.com/mnews/article/003/001...</td>\n",
       "      <td>2시간 전</td>\n",
       "    </tr>\n",
       "    <tr>\n",
       "      <th>3656</th>\n",
       "      <td>세계일보</td>\n",
       "      <td>삼성전자에 발등 찍힌 국민연금 [경제 레이더]</td>\n",
       "      <td>https://n.news.naver.com/mnews/article/022/000...</td>\n",
       "      <td>A14면 1단</td>\n",
       "    </tr>\n",
       "  </tbody>\n",
       "</table>\n",
       "</div>"
      ],
      "text/plain": [
       "       press                                  title  \\\n",
       "3652  한국경제TV        삼성전자, 저전력 특화 '24Gb GDDR7 D램' 개발   \n",
       "3653  지디넷코리아           삼성전자, 28일 갤럭시북5 프로 360 국내 출시   \n",
       "3654    노컷뉴스  삼성전자, AI PC '갤럭시 북5 프로 360' 28일 국내 출시   \n",
       "3655     뉴시스       삼성전자·SK하이닉스 강세…\"TSMC 실적 촉각\"[핫스탁]   \n",
       "3656    세계일보              삼성전자에 발등 찍힌 국민연금 [경제 레이더]   \n",
       "\n",
       "                                                  nlink     date  \n",
       "3652  https://n.news.naver.com/mnews/article/215/000...    2시간 전  \n",
       "3653  https://n.news.naver.com/mnews/article/092/000...     1일 전  \n",
       "3654  https://n.news.naver.com/mnews/article/079/000...     1일 전  \n",
       "3655  https://n.news.naver.com/mnews/article/003/001...    2시간 전  \n",
       "3656  https://n.news.naver.com/mnews/article/022/000...  A14면 1단  "
      ]
     },
     "execution_count": 5,
     "metadata": {},
     "output_type": "execute_result"
    }
   ],
   "source": [
    "# newsList의 처음 5행 확인\n",
    "newsList.tail()"
   ]
  },
  {
   "cell_type": "code",
   "execution_count": 6,
   "id": "533f512f-5f3b-40dd-8f9c-8a379a1fede7",
   "metadata": {},
   "outputs": [
    {
     "name": "stdout",
     "output_type": "stream",
     "text": [
      "<class 'pandas.core.frame.DataFrame'>\n",
      "RangeIndex: 3657 entries, 0 to 3656\n",
      "Data columns (total 4 columns):\n",
      " #   Column  Non-Null Count  Dtype \n",
      "---  ------  --------------  ----- \n",
      " 0   press   3657 non-null   object\n",
      " 1   title   3657 non-null   object\n",
      " 2   nlink   3657 non-null   object\n",
      " 3   date    3657 non-null   object\n",
      "dtypes: object(4)\n",
      "memory usage: 114.4+ KB\n"
     ]
    }
   ],
   "source": [
    "# newsList의 정보 확인\n",
    "newsList.info()"
   ]
  },
  {
   "cell_type": "code",
   "execution_count": 7,
   "id": "8fec5d3a-5354-4380-9a52-d4a001359680",
   "metadata": {},
   "outputs": [],
   "source": [
    "# 네이버뉴스 링크로 HTTP 요청을 실행하고 뉴스 본문을 반환하는 함수 생성\n",
    "def NaverNewsBody(nlink):\n",
    "    \n",
    "    # nlink에 따라 HTTP 요청 실행 및 응답 바디 문자열 처리 코드 분기\n",
    "    if 'https://n.news' in nlink:\n",
    "        \n",
    "        # 네이버뉴스 링크로 HTTP 요청 실행\n",
    "        res = requests.get(url = nlink)\n",
    "        \n",
    "        # HTTP 응답 바디 문자열을 bs4.BeautifulSoup 객체로 변환\n",
    "        soup = bts(markup = res.text, features = 'html.parser')\n",
    "        \n",
    "        # soup에서 뉴스 본문을 포함하는 HTML 요소 선택\n",
    "        item = soup.select_one(selector = '#dic_area, div._article_content')\n",
    "        \n",
    "        # item의 텍스트 반환\n",
    "        # [참고] strip()은 문자열 양 옆에 있는 공백을 모두 제거함\n",
    "        return item.text.strip()\n",
    "    \n",
    "    elif 'https://m' in nlink:\n",
    "        \n",
    "        # 'https://m'으로 시작하는 nlink의 일부 문자열 변경한 url 생성\n",
    "        url = re.sub(pattern = 'https://m.(sports|entertain).naver.com(.+)?(?=/article)', \n",
    "                     repl = r'https://api-gw.\\1.naver.com/news', \n",
    "                     string = newsList['nlink'].iloc[i])\n",
    "        \n",
    "        # url로 HTTP 요청 실행\n",
    "        res = requests.get(url = url)\n",
    "        \n",
    "        # JSON 형태의 문자열을 딕셔너리로 변환\n",
    "        dic = json.loads(s = res.text)\n",
    "        \n",
    "        # 뉴스 본문 반환\n",
    "        return dic['result']['articleInfo']['article']['content']"
   ]
  },
  {
   "cell_type": "code",
   "execution_count": 8,
   "id": "7f61242a-35eb-4468-9541-df29569a939b",
   "metadata": {},
   "outputs": [],
   "source": [
    "# 인덱스 설정: 첫 번째 원소\n",
    "# [참고] 반복문으로 실행할 코드에 인덱스를 추가하면 편리함\n",
    "i = 0"
   ]
  },
  {
   "cell_type": "code",
   "execution_count": 9,
   "id": "f4fcd527-9af6-484e-8cfc-fde49c8834bb",
   "metadata": {},
   "outputs": [
    {
     "name": "stdout",
     "output_type": "stream",
     "text": [
      "https://n.news.naver.com/mnews/article/448/0000483378\n"
     ]
    }
   ],
   "source": [
    "# 해당 인덱스의 nlink 확인\n",
    "print(newsList['nlink'].iloc[i])"
   ]
  },
  {
   "cell_type": "code",
   "execution_count": 10,
   "id": "91af3108-00a2-444e-81db-b0f4b54866b3",
   "metadata": {},
   "outputs": [
    {
     "data": {
      "text/plain": [
       "\"성전자가 업계 최초로 12나노급 24Gb GDDR7 D램 개발을 완료했다.24Gb GDDR7 D램은 업계 최고 사양을 구현한 제품으로 PC, 게임 콘솔 등 기존 그래픽 D램의 응용처를 넘어 AI 워크스테이션, 데이터센터 등 고성능 제품을 필요로 하는 분야까지 다양하게 활용될 전망이다.이번 제품은 24Gb의 고용량과 400Gbps 이상의 속도를 갖췄고, 전작 대비 용량, 성능, 전력 효율이 모두 향상됐다.삼성전자는 이번 제품에 12나노급 미세 공정을 적용해 동일한 패키지 크기에 셀 집적도를 높였고, 전작 대비 50% 향상된 용량을 구현했다.또 'PAM3 신호방식'을 통해 그래픽 D램 중 업계 최고 속도인 40Gbps를 구현했으며 사용 환경에 따라 최대 42.5Gbps까지의 성능을 자랑한다.\""
      ]
     },
     "execution_count": 10,
     "metadata": {},
     "output_type": "execute_result"
    }
   ],
   "source": [
    "# 함수 테스트\n",
    "NaverNewsBody(nlink = newsList['nlink'].iloc[i])"
   ]
  },
  {
   "cell_type": "code",
   "execution_count": 11,
   "id": "c6c5b7af-aaaf-4610-bece-c76b785ebf5f",
   "metadata": {},
   "outputs": [],
   "source": [
    "# 경고를 출력하지 않도록 설정\n",
    "import warnings\n",
    "warnings.filterwarnings('ignore')"
   ]
  },
  {
   "cell_type": "code",
   "execution_count": 12,
   "id": "d217a18d-bdef-4aaf-a74b-b78a3e8bf4f8",
   "metadata": {},
   "outputs": [
    {
     "name": "stdout",
     "output_type": "stream",
     "text": [
      "3657\n"
     ]
    }
   ],
   "source": [
    "# 반복 실행할 횟수 생성\n",
    "n = len(newsList)\n",
    "print(n)"
   ]
  },
  {
   "cell_type": "code",
   "execution_count": 14,
   "id": "ed410c8e-e476-49b6-8bae-b395ffcfcdbf",
   "metadata": {},
   "outputs": [
    {
     "data": {
      "application/vnd.jupyter.widget-view+json": {
       "model_id": "32ad14a16ccd4553ac93f323cc623e54",
       "version_major": 2,
       "version_minor": 0
      },
      "text/plain": [
       "  0%|          | 0/3657 [00:00<?, ?it/s]"
      ]
     },
     "metadata": {},
     "output_type": "display_data"
    }
   ],
   "source": [
    "# newsList에 뉴스 본문을 저장할 열 추가\n",
    "newsList['body'] = np.nan\n",
    "\n",
    "# 반복문으로 네이버뉴스 본문 수집\n",
    "for i in tqdm(range(n)):\n",
    "    \n",
    "    # 네이버뉴스 링크로 뉴스 본문 수집\n",
    "    newsList['body'].iloc[i] = NaverNewsBody(nlink = newsList['nlink'].iloc[i])\n",
    "    \n",
    "    # 1초간 멈춤\n",
    "    time.sleep(1)"
   ]
  },
  {
   "cell_type": "code",
   "execution_count": 15,
   "id": "825bff7d-df22-4e8f-ae7e-000f24330bc8",
   "metadata": {},
   "outputs": [
    {
     "data": {
      "text/html": [
       "<div>\n",
       "<style scoped>\n",
       "    .dataframe tbody tr th:only-of-type {\n",
       "        vertical-align: middle;\n",
       "    }\n",
       "\n",
       "    .dataframe tbody tr th {\n",
       "        vertical-align: top;\n",
       "    }\n",
       "\n",
       "    .dataframe thead th {\n",
       "        text-align: right;\n",
       "    }\n",
       "</style>\n",
       "<table border=\"1\" class=\"dataframe\">\n",
       "  <thead>\n",
       "    <tr style=\"text-align: right;\">\n",
       "      <th></th>\n",
       "      <th>press</th>\n",
       "      <th>title</th>\n",
       "      <th>nlink</th>\n",
       "      <th>date</th>\n",
       "      <th>body</th>\n",
       "    </tr>\n",
       "  </thead>\n",
       "  <tbody>\n",
       "    <tr>\n",
       "      <th>3652</th>\n",
       "      <td>한국경제TV</td>\n",
       "      <td>삼성전자, 저전력 특화 '24Gb GDDR7 D램' 개발</td>\n",
       "      <td>https://n.news.naver.com/mnews/article/215/000...</td>\n",
       "      <td>2시간 전</td>\n",
       "      <td>삼성전자가 업계 최초로 12나노급 '24Gb GDDR7 D램' 개발을 완료했다고 1...</td>\n",
       "    </tr>\n",
       "    <tr>\n",
       "      <th>3653</th>\n",
       "      <td>지디넷코리아</td>\n",
       "      <td>삼성전자, 28일 갤럭시북5 프로 360 국내 출시</td>\n",
       "      <td>https://n.news.naver.com/mnews/article/092/000...</td>\n",
       "      <td>1일 전</td>\n",
       "      <td>코어 울트라 200V 내장 47 TOPS급 NPU로 AI 처리 가속삼성전자가 인텔 ...</td>\n",
       "    </tr>\n",
       "    <tr>\n",
       "      <th>3654</th>\n",
       "      <td>노컷뉴스</td>\n",
       "      <td>삼성전자, AI PC '갤럭시 북5 프로 360' 28일 국내 출시</td>\n",
       "      <td>https://n.news.naver.com/mnews/article/079/000...</td>\n",
       "      <td>1일 전</td>\n",
       "      <td>삼성전자 모델이 강력한 AI PC 경험을 제공하는 '갤럭시 북5 Pro 360'을 ...</td>\n",
       "    </tr>\n",
       "    <tr>\n",
       "      <th>3655</th>\n",
       "      <td>뉴시스</td>\n",
       "      <td>삼성전자·SK하이닉스 강세…\"TSMC 실적 촉각\"[핫스탁]</td>\n",
       "      <td>https://n.news.naver.com/mnews/article/003/001...</td>\n",
       "      <td>2시간 전</td>\n",
       "      <td>*재판매 및 DB 금지[서울=뉴시스] 박주연 기자 = 삼성전자와 SK하이닉스가 17...</td>\n",
       "    </tr>\n",
       "    <tr>\n",
       "      <th>3656</th>\n",
       "      <td>세계일보</td>\n",
       "      <td>삼성전자에 발등 찍힌 국민연금 [경제 레이더]</td>\n",
       "      <td>https://n.news.naver.com/mnews/article/022/000...</td>\n",
       "      <td>A14면 1단</td>\n",
       "      <td>전 국민의 노후 ‘뒷배’ 국민연금의 주식 운용 실적에 비상등이 켜졌다. 믿었던 대장...</td>\n",
       "    </tr>\n",
       "  </tbody>\n",
       "</table>\n",
       "</div>"
      ],
      "text/plain": [
       "       press                                  title  \\\n",
       "3652  한국경제TV        삼성전자, 저전력 특화 '24Gb GDDR7 D램' 개발   \n",
       "3653  지디넷코리아           삼성전자, 28일 갤럭시북5 프로 360 국내 출시   \n",
       "3654    노컷뉴스  삼성전자, AI PC '갤럭시 북5 프로 360' 28일 국내 출시   \n",
       "3655     뉴시스       삼성전자·SK하이닉스 강세…\"TSMC 실적 촉각\"[핫스탁]   \n",
       "3656    세계일보              삼성전자에 발등 찍힌 국민연금 [경제 레이더]   \n",
       "\n",
       "                                                  nlink     date  \\\n",
       "3652  https://n.news.naver.com/mnews/article/215/000...    2시간 전   \n",
       "3653  https://n.news.naver.com/mnews/article/092/000...     1일 전   \n",
       "3654  https://n.news.naver.com/mnews/article/079/000...     1일 전   \n",
       "3655  https://n.news.naver.com/mnews/article/003/001...    2시간 전   \n",
       "3656  https://n.news.naver.com/mnews/article/022/000...  A14면 1단   \n",
       "\n",
       "                                                   body  \n",
       "3652  삼성전자가 업계 최초로 12나노급 '24Gb GDDR7 D램' 개발을 완료했다고 1...  \n",
       "3653  코어 울트라 200V 내장 47 TOPS급 NPU로 AI 처리 가속삼성전자가 인텔 ...  \n",
       "3654  삼성전자 모델이 강력한 AI PC 경험을 제공하는 '갤럭시 북5 Pro 360'을 ...  \n",
       "3655  *재판매 및 DB 금지[서울=뉴시스] 박주연 기자 = 삼성전자와 SK하이닉스가 17...  \n",
       "3656  전 국민의 노후 ‘뒷배’ 국민연금의 주식 운용 실적에 비상등이 켜졌다. 믿었던 대장...  "
      ]
     },
     "execution_count": 15,
     "metadata": {},
     "output_type": "execute_result"
    }
   ],
   "source": [
    "# newsList의 처음 5행 확인\n",
    "newsList.tail()"
   ]
  },
  {
   "cell_type": "code",
   "execution_count": 16,
   "id": "b2fa1320-93fd-46eb-9c69-b9c9da67d7a7",
   "metadata": {},
   "outputs": [],
   "source": [
    "# 결과를 CSV 파일로 저장\n",
    "newsList.to_csv('naver_news_samsung.csv', index=False, encoding='utf-8-sig')"
   ]
  },
  {
   "cell_type": "code",
   "execution_count": null,
   "id": "8b3ee140-e47c-4844-8b7e-d998d4b5fcf9",
   "metadata": {},
   "outputs": [],
   "source": []
  },
  {
   "cell_type": "markdown",
   "id": "7515bfa3-6fd0-400c-a765-fa7c9642dd93",
   "metadata": {},
   "source": [
    "### 중복 제거 나중에..."
   ]
  }
 ],
 "metadata": {
  "kernelspec": {
   "display_name": "Python 3 (ipykernel)",
   "language": "python",
   "name": "python3"
  },
  "language_info": {
   "codemirror_mode": {
    "name": "ipython",
    "version": 3
   },
   "file_extension": ".py",
   "mimetype": "text/x-python",
   "name": "python",
   "nbconvert_exporter": "python",
   "pygments_lexer": "ipython3",
   "version": "3.12.4"
  }
 },
 "nbformat": 4,
 "nbformat_minor": 5
}
